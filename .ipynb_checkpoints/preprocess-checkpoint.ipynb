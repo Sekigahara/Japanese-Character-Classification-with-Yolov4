{
 "cells": [
  {
   "cell_type": "code",
<<<<<<< HEAD
   "execution_count": 37,
=======
   "execution_count": 15,
>>>>>>> f8a21adff3a77e4deb5c29bb6054cc524217a24e
   "id": "5da9c25d",
   "metadata": {},
   "outputs": [],
   "source": [
    "import numpy as np\n",
    "import cv2\n",
    "import matplotlib.pyplot as plt\n",
    "from scipy import ndimage"
   ]
  },
  {
   "cell_type": "code",
<<<<<<< HEAD
   "execution_count": 38,
=======
   "execution_count": 16,
>>>>>>> f8a21adff3a77e4deb5c29bb6054cc524217a24e
   "id": "47705d67",
   "metadata": {},
   "outputs": [],
   "source": [
    "train_load = np.load(\"Utils\\\\dataset_train.npz\")\n",
    "test_load = np.load(\"Utils\\\\dataset_test.npz\")"
   ]
  },
  {
   "cell_type": "code",
<<<<<<< HEAD
   "execution_count": 39,
=======
   "execution_count": 17,
>>>>>>> f8a21adff3a77e4deb5c29bb6054cc524217a24e
   "id": "11c22f75",
   "metadata": {},
   "outputs": [],
   "source": [
    "# Get train Data\n",
    "x_train_path = train_load['x_path']\n",
    "y_train = train_load['y_train']\n",
    "y_train_not_encoded = train_load['y_train_raw']"
   ]
  },
  {
   "cell_type": "code",
<<<<<<< HEAD
   "execution_count": 40,
=======
   "execution_count": 18,
>>>>>>> f8a21adff3a77e4deb5c29bb6054cc524217a24e
   "id": "a50d4e98",
   "metadata": {},
   "outputs": [],
   "source": [
    "# Get Test Data\n",
    "x_test_path = test_load['x_path']\n",
    "y_test = test_load['y_train']\n",
    "y_test_not_encoded = test_load['y_train_raw']"
   ]
  },
  {
   "cell_type": "code",
<<<<<<< HEAD
   "execution_count": 41,
=======
   "execution_count": 19,
>>>>>>> f8a21adff3a77e4deb5c29bb6054cc524217a24e
   "id": "870176ac",
   "metadata": {},
   "outputs": [],
   "source": [
    "# Load Required Augmentation\n",
    "import json\n",
    "\n",
    "f = open('Utils\\\\class_require_augment.json')\n",
    "balance_requirement = json.load(f)\n",
    "# ['0'] is supposed for label\n",
    "# ['1'] is supposed for how many times to augment to fulfill balance class"
   ]
  },
  {
   "cell_type": "code",
<<<<<<< HEAD
   "execution_count": 42,
=======
   "execution_count": 20,
>>>>>>> f8a21adff3a77e4deb5c29bb6054cc524217a24e
   "id": "4506b055",
   "metadata": {},
   "outputs": [
    {
     "name": "stdout",
     "output_type": "stream",
     "text": [
      "Length of train : 63846\n",
      "Length of test  : 21281\n"
     ]
    }
   ],
   "source": [
    "# Check the Ratio\n",
    "print(\"Length of train : {}\".format(str(y_train.shape[0])))\n",
    "print(\"Length of test  : {}\".format(str(y_test.shape[0])))"
   ]
  },
  {
   "cell_type": "code",
<<<<<<< HEAD
   "execution_count": 43,
=======
   "execution_count": 21,
>>>>>>> f8a21adff3a77e4deb5c29bb6054cc524217a24e
   "id": "aca602a5",
   "metadata": {},
   "outputs": [],
   "source": [
    "from Extract.hiragana import basic_hiragana_char\n",
    "from Extract.katakana import basic_katakana_char\n",
    "\n",
    "# Make List of Label in One Array\n",
    "japanese_character = []\n",
    "japanese_character.extend(basic_hiragana_char)\n",
    "japanese_character.extend(basic_katakana_char)"
   ]
  },
  {
   "cell_type": "code",
<<<<<<< HEAD
   "execution_count": 44,
=======
   "execution_count": 22,
>>>>>>> f8a21adff3a77e4deb5c29bb6054cc524217a24e
   "id": "98ae4f1c",
   "metadata": {},
   "outputs": [],
   "source": [
    "# Load Data Test\n",
    "x_test = []\n",
    "for idx, path in enumerate(x_test_path):\n",
    "    img_temp = cv2.imread(path)\n",
    "    img_temp = cv2.cvtColor(img_temp, cv2.COLOR_BGR2RGB)\n",
    "    x_test.append(img_temp)"
   ]
  },
  {
   "cell_type": "markdown",
   "id": "f729e209",
   "metadata": {},
   "source": [
    "<h1> Data Augmentation </h1>"
   ]
  },
  {
   "cell_type": "code",
<<<<<<< HEAD
   "execution_count": 45,
=======
   "execution_count": 23,
>>>>>>> f8a21adff3a77e4deb5c29bb6054cc524217a24e
   "id": "2204e4ae",
   "metadata": {},
   "outputs": [],
   "source": [
    "# Load image of the train first\n",
    "\n",
    "x_train = []\n",
    "for idx, path in enumerate(x_train_path):\n",
    "    img_temp = cv2.imread(path)\n",
    "    img_temp = cv2.cvtColor(img_temp, cv2.COLOR_BGR2RGB)\n",
    "    x_train.append(img_temp)"
   ]
  },
  {
   "cell_type": "code",
<<<<<<< HEAD
   "execution_count": 46,
=======
   "execution_count": 24,
>>>>>>> f8a21adff3a77e4deb5c29bb6054cc524217a24e
   "id": "0f64a850",
   "metadata": {},
   "outputs": [
    {
     "name": "stdout",
     "output_type": "stream",
     "text": [
      "タ-ta\n",
      "Extract//ETL1//IMG_WHITE1\\10136_タ-ta_kana.png\n"
     ]
    },
    {
     "data": {
<<<<<<< HEAD
      "image/png": "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\n",
=======
      "image/png": "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\n",
>>>>>>> f8a21adff3a77e4deb5c29bb6054cc524217a24e
      "text/plain": [
       "<Figure size 432x288 with 1 Axes>"
      ]
     },
     "metadata": {
      "needs_background": "light"
     },
     "output_type": "display_data"
    }
   ],
   "source": [
    "plt.imshow(x_train[100])\n",
    "print(japanese_character[y_train[100]])\n",
    "print(x_train_path[100])"
   ]
  },
  {
   "cell_type": "code",
<<<<<<< HEAD
   "execution_count": 47,
=======
   "execution_count": 25,
>>>>>>> f8a21adff3a77e4deb5c29bb6054cc524217a24e
   "id": "48bd55bb",
   "metadata": {},
   "outputs": [
    {
     "name": "stdout",
     "output_type": "stream",
     "text": [
      "Class=0, n=271 (0.424%)\n",
      "Class=1, n=272 (0.426%)\n",
      "Class=2, n=272 (0.426%)\n",
      "Class=3, n=271 (0.424%)\n",
      "Class=4, n=272 (0.426%)\n",
      "Class=5, n=267 (0.418%)\n",
      "Class=6, n=271 (0.424%)\n",
      "Class=7, n=272 (0.426%)\n",
      "Class=8, n=271 (0.424%)\n",
      "Class=9, n=271 (0.424%)\n",
      "Class=10, n=271 (0.424%)\n",
      "Class=11, n=264 (0.413%)\n",
      "Class=12, n=271 (0.424%)\n",
      "Class=13, n=271 (0.424%)\n",
      "Class=14, n=270 (0.423%)\n",
      "Class=15, n=271 (0.424%)\n",
      "Class=16, n=272 (0.426%)\n",
      "Class=17, n=271 (0.424%)\n",
      "Class=18, n=272 (0.426%)\n",
      "Class=19, n=271 (0.424%)\n",
      "Class=20, n=272 (0.426%)\n",
      "Class=21, n=271 (0.424%)\n",
      "Class=22, n=272 (0.426%)\n",
      "Class=23, n=271 (0.424%)\n",
      "Class=24, n=272 (0.426%)\n",
      "Class=25, n=271 (0.424%)\n",
      "Class=26, n=272 (0.426%)\n",
      "Class=27, n=271 (0.424%)\n",
      "Class=28, n=272 (0.426%)\n",
      "Class=29, n=270 (0.423%)\n",
      "Class=30, n=271 (0.424%)\n",
      "Class=31, n=272 (0.426%)\n",
      "Class=32, n=271 (0.424%)\n",
      "Class=33, n=272 (0.426%)\n",
      "Class=34, n=271 (0.424%)\n",
      "Class=35, n=272 (0.426%)\n",
      "Class=36, n=271 (0.424%)\n",
      "Class=37, n=272 (0.426%)\n",
      "Class=38, n=271 (0.424%)\n",
      "Class=39, n=272 (0.426%)\n",
      "Class=40, n=271 (0.424%)\n",
      "Class=41, n=272 (0.426%)\n",
      "Class=42, n=271 (0.424%)\n",
      "Class=43, n=272 (0.426%)\n",
      "Class=44, n=271 (0.424%)\n",
      "Class=45, n=272 (0.426%)\n",
      "Class=46, n=1053 (1.649%)\n",
      "Class=47, n=2111 (3.306%)\n",
      "Class=48, n=2106 (3.299%)\n",
      "Class=49, n=2113 (3.310%)\n",
      "Class=50, n=1056 (1.654%)\n",
      "Class=51, n=1055 (1.652%)\n",
      "Class=52, n=1055 (1.652%)\n",
      "Class=53, n=1058 (1.657%)\n",
      "Class=54, n=1054 (1.651%)\n",
      "Class=55, n=1046 (1.638%)\n",
      "Class=56, n=1055 (1.652%)\n",
      "Class=57, n=920 (1.441%)\n",
      "Class=58, n=1055 (1.652%)\n",
      "Class=59, n=1056 (1.654%)\n",
      "Class=60, n=1055 (1.652%)\n",
      "Class=61, n=1054 (1.651%)\n",
      "Class=62, n=1031 (1.615%)\n",
      "Class=63, n=1046 (1.638%)\n",
      "Class=64, n=1052 (1.648%)\n",
      "Class=65, n=1055 (1.652%)\n",
      "Class=66, n=1054 (1.651%)\n",
      "Class=67, n=1053 (1.649%)\n",
      "Class=68, n=1053 (1.649%)\n",
      "Class=69, n=1055 (1.652%)\n",
      "Class=70, n=1054 (1.651%)\n",
      "Class=71, n=1055 (1.652%)\n",
      "Class=72, n=1047 (1.640%)\n",
      "Class=73, n=1053 (1.649%)\n",
      "Class=74, n=1051 (1.646%)\n",
      "Class=75, n=1050 (1.645%)\n",
      "Class=76, n=1053 (1.649%)\n",
      "Class=77, n=1053 (1.649%)\n",
      "Class=78, n=1053 (1.649%)\n",
      "Class=79, n=1053 (1.649%)\n",
      "Class=80, n=1026 (1.607%)\n",
      "Class=81, n=1048 (1.641%)\n",
      "Class=82, n=1053 (1.649%)\n",
      "Class=83, n=1053 (1.649%)\n",
      "Class=84, n=1050 (1.645%)\n",
      "Class=85, n=1041 (1.630%)\n",
      "Class=86, n=1052 (1.648%)\n",
      "Class=87, n=1048 (1.641%)\n",
      "Class=88, n=1046 (1.638%)\n",
      "Class=89, n=1051 (1.646%)\n",
      "Class=90, n=1042 (1.632%)\n",
      "Class=91, n=1041 (1.630%)\n"
     ]
    }
   ],
   "source": [
    "from collections import Counter\n",
    "\n",
    "counter = Counter(np.sort(y_train))\n",
    "for k, v in counter.items():\n",
    "    per= v / len(y_train) * 100\n",
    "    print('Class=%d, n=%d (%.3f%%)' % (k, v, per))"
   ]
  },
  {
   "cell_type": "markdown",
   "id": "5e5a891f",
   "metadata": {},
   "source": [
    "<h4> List Augmented Method </h4>\n",
    "1. Resize 48 px </br>\n",
    "2. Resize 36 px </br>\n",
    "3. Erotion </br>\n",
    "4. Dilation </br>\n",
    "5. Brightness"
   ]
  },
  {
   "cell_type": "code",
<<<<<<< HEAD
   "execution_count": 48,
=======
   "execution_count": 26,
>>>>>>> f8a21adff3a77e4deb5c29bb6054cc524217a24e
   "id": "bd07ead8",
   "metadata": {},
   "outputs": [],
   "source": [
    "def brightness_settings(img, brightness=255):    \n",
    "    if brightness != 0:\n",
    "        if brightness > 0:\n",
    "            shadow = brightness\n",
    "            highlight = 255\n",
    "        else:\n",
    "            shadow = 0\n",
    "            highlight = 255 + brightness\n",
    "        alpha_b = (highlight - shadow)/255\n",
    "        gamma_b = shadow\n",
    "        buf = cv2.addWeighted(img, alpha_b, img, 0, gamma_b)\n",
    "    else:\n",
    "        buf = img.copy()\n",
    "        \n",
    "    return buf\n",
    "\n",
    "def morphological_action(img, action):\n",
    "    kernel = np.ones((1, 1), np.uint8)\n",
    "    if action == 'dilation':\n",
    "        return cv2.erode(img, kernel, iterations=1)\n",
    "    if action == 'erosion':\n",
    "        return cv2.dilate(img, kernel, iterations=1)\n",
    "    \n",
    "def rotation(img, direction='left', degree=45):\n",
    "    rows, cols = img.shape[0], img.shape[1]\n",
    "    img_center = (cols / 2, rows / 2)\n",
    "    \n",
    "    if direction == 'left':\n",
    "        rotate_mat = cv2.getRotationMatrix2D(img_center, degree, 1)\n",
    "    else:\n",
    "        rotate_mat = cv2.getRotationMatrix2D(img_center, 360-degree, 1)\n",
    "    \n",
    "    return cv2.warpAffine(img, rotate_mat, (cols, rows), \n",
    "                          borderMode=cv2.BORDER_CONSTANT,\n",
    "                          borderValue=(255, 255, 255))"
   ]
  },
  {
   "cell_type": "code",
<<<<<<< HEAD
   "execution_count": 49,
=======
   "execution_count": 27,
>>>>>>> f8a21adff3a77e4deb5c29bb6054cc524217a24e
   "id": "9411d38a",
   "metadata": {},
   "outputs": [],
   "source": [
    "# First Augment\n",
    "# 0. No Augment\n",
    "# 1. Erosion\n",
    "# 2. Dilation\n",
    "# 3. brightness\n",
    "\n",
    "# Rotation\n",
    "# 0. No rotation\n",
    "# 1. Resize 48\n",
    "# 2. Resize 36\n",
    "\n",
    "import random\n",
    "\n",
    "def generate_random_combination(n_combination=2):\n",
    "    combination = []\n",
    "    \n",
    "    itr = 0\n",
    "    # Looping to generate n combination\n",
    "    # Only possible for 11 combination, if 11 combination has been fulfilled loop may go infinity\n",
    "    while itr < n_combination:\n",
    "        # Generate with range 0f 0-3 and 0-2\n",
    "        temp = [random.randrange(0, 4), random.randrange(0, 3)]\n",
    "        \n",
    "        # Avoid combination [0, 0]\n",
    "        if temp == [0, 0]:\n",
    "            continue\n",
    "        \n",
    "        # Assign for first iteration\n",
    "        if itr == 0:\n",
    "            combination.append(temp)\n",
    "            itr += 1\n",
    "        \n",
    "        # Assign for second and later iteration\n",
    "        if itr != 0:      \n",
    "            # Gather Information upwards/backward of array\n",
    "            isTheSame = False\n",
    "            for data in combination:\n",
    "                if data == temp:\n",
    "                    isTheSame = True\n",
    "                    break\n",
    "                    \n",
    "            # if no similiarity to backward array temp succesfully added\n",
    "            if isTheSame == False:\n",
    "                combination.append(temp)\n",
    "                itr += 1\n",
    "            else:\n",
    "                continue\n",
    "\n",
    "    return np.asarray(combination)"
   ]
  },
  {
   "cell_type": "code",
   "execution_count": null,
   "id": "b475f83b",
   "metadata": {},
   "outputs": [],
   "source": []
  },
  {
   "cell_type": "code",
   "execution_count": null,
   "id": "549343e5",
   "metadata": {},
   "outputs": [],
   "source": []
  },
  {
   "cell_type": "code",
<<<<<<< HEAD
   "execution_count": 50,
=======
   "execution_count": 28,
>>>>>>> f8a21adff3a77e4deb5c29bb6054cc524217a24e
   "id": "d7436f03",
   "metadata": {},
   "outputs": [],
   "source": [
    "# Lets Augment\n",
    "augmented_x = []\n",
    "augmented_y = []\n",
    "for idx, character in enumerate(japanese_character):\n",
    "    # Generate Random Combination for augmentation Each Classes\n",
    "    combination = generate_random_combination(balance_requirement['1'][idx] - 1)\n",
    "\n",
    "    # Eliminate empty combination(Eg. Class which dont need any augmentation)\n",
    "    if len(combination) == 0:\n",
    "        continue\n",
    "    \n",
    "    # loop the Combination array\n",
    "    current_class = idx\n",
    "    for idx_comb, combinated in enumerate(combination):\n",
    "        # Loop Through the image\n",
    "        for idx_img, img in enumerate(x_train):\n",
    "            if y_train[idx_img] == current_class:\n",
    "                # Check for the first Augmentation\n",
    "                temp = img\n",
    "                if combinated[0] == 1:\n",
    "                    temp = morphological_action(temp, action='erosion')\n",
    "                if combinated[0] == 2:\n",
    "                    temp = morphological_action(temp, action='dilation')\n",
    "                if combinated[0] == 3:\n",
    "                    temp = brightness_settings(temp, brightness=50)\n",
    "                \n",
    "                if combinated[1] == 1:\n",
    "                    #temp = rotation(temp, direction='left', degree=45)\n",
    "                    temp = cv2.resize(temp, (48, 48))\n",
    "                if combinated[1] == 2:\n",
    "                    temp = cv2.resize(temp, (36, 36))\n",
    "                    \n",
    "                augmented_x.append(temp)\n",
    "                augmented_y.append(current_class)"
   ]
  },
  {
   "cell_type": "code",
<<<<<<< HEAD
   "execution_count": 51,
=======
   "execution_count": 29,
>>>>>>> f8a21adff3a77e4deb5c29bb6054cc524217a24e
   "id": "5d964930",
   "metadata": {},
   "outputs": [
    {
     "data": {
      "text/plain": [
       "132348"
      ]
     },
<<<<<<< HEAD
     "execution_count": 51,
=======
     "execution_count": 29,
>>>>>>> f8a21adff3a77e4deb5c29bb6054cc524217a24e
     "metadata": {},
     "output_type": "execute_result"
    }
   ],
   "source": [
    "len(augmented_y)"
   ]
  },
  {
   "cell_type": "markdown",
   "id": "370dc520",
   "metadata": {},
   "source": [
    "<h2> Validating </h2>"
   ]
  },
  {
   "cell_type": "code",
<<<<<<< HEAD
   "execution_count": 52,
=======
   "execution_count": 30,
>>>>>>> f8a21adff3a77e4deb5c29bb6054cc524217a24e
   "id": "a3016af1",
   "metadata": {},
   "outputs": [
    {
     "name": "stdout",
     "output_type": "stream",
     "text": [
      "80 モ-mo\n"
     ]
    },
    {
     "data": {
      "text/plain": [
<<<<<<< HEAD
       "<matplotlib.image.AxesImage at 0x179681ffd60>"
      ]
     },
     "execution_count": 52,
=======
       "<matplotlib.image.AxesImage at 0x20ec98b5e20>"
      ]
     },
     "execution_count": 30,
>>>>>>> f8a21adff3a77e4deb5c29bb6054cc524217a24e
     "metadata": {},
     "output_type": "execute_result"
    },
    {
     "data": {
<<<<<<< HEAD
      "image/png": "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\n",
=======
      "image/png": "iVBORw0KGgoAAAANSUhEUgAAAPsAAAD5CAYAAADhukOtAAAAOXRFWHRTb2Z0d2FyZQBNYXRwbG90bGliIHZlcnNpb24zLjQuMywgaHR0cHM6Ly9tYXRwbG90bGliLm9yZy/MnkTPAAAACXBIWXMAAAsTAAALEwEAmpwYAAANZElEQVR4nO3df4wc9XnH8c8njmlRjDDGrmUd0HMTq5WxiyNdLCIiREgpblXJRIpQgBbLMiGgIDVSVBX4J2lUIywlIfkjskSIuauUglFIilVRCnIjuZEqw5lQ4h8txviQbQ7bp4Cw/0liePrHzlWHs+vb253Zndvn/ZJOt/ud2ZlnZH9udmdn5nFECMDg+0i/CwDQG4QdSIKwA0kQdiAJwg4kQdiBJD7azYttb5D0PUkLJD0WEQ9faP6lS5fG8PBwN6sEcAETExOamppys2kdh932Aknfl3STpOOSXrK9KyIOtnrN8PCwxsfHO10lgFmMjIy0nNbN2/j1kl6PiDci4jeSnpS0sYvlAahQN2EfknRsxvPjxdiH2L7b9rjt8dOnT3exOgDdqPwAXUQ8GhEjETGybNmyqlcHoIVuwn5C0pUznl9RjAGooW7C/pKkVbZX2r5I0hcl7SqnLABl6/hofEScs32fpH9X46u3HRFxoLTKAJSqq+/ZI+JZSc+WVAuACnEGHZAEYQeSIOxAEoQdSIKwA0kQdiAJwg4kQdiBJAg7kARhB5Ig7EAShB1IgrADSRB2IAnCDiRB2IEkCDuQBGEHkiDsQBKEHUiCsANJdNvFdULSGUnvSzoXEa27ygHoq67CXvhsREyVsBwAFeJtPJBEt2EPSc/b3mf77jIKAlCNbt/GfyYiTtj+A0kv2P6fiNgzc4bij8DdknTVVVd1uToAnepqzx4RJ4rfpyT9VNL6JvPQshmogY737LY/JukjEXGmePznkr5ZWmUDbu3atU3Hz5492+NKOrNq1aqm488//3yPK0G7unkbv1zST21PL+efI+K5UqoCULpuWja/IemaEmsBUCG+egOSIOxAEoQdSKKM02XRgQceeKDp+B133NHjSjozMTHRdLw4YFsbEdHvEmqDPTuQBGEHkiDsQBKEHUiCsANJcDS+T26//fam45OTk03H9+/fX2U5czY6OtqX9S5cuLDp+NGjR3tcyfzDnh1IgrADSRB2IAnCDiRB2IEk3Mtzh0dGRmJ8fLxn60N15noO/HPPNb+vyc0331xGOSiMjIxofHy86T8Oe3YgCcIOJEHYgSQIO5AEYQeSIOxAErNeCGN7h6S/knQqItYUY0sk7ZQ0LGlC0q0R8U51ZaJfdu7cWcpyrr/++lKWg861s2cflbThvLH7Je2OiFWSdhfPAdTYrGEvGjX+6rzhjZLGisdjkm4ptywAZev0M/vyiJi+8PptNVpBNWX7btvjtsdPnz7d4eoAdKvrA3TRON+25Tm3dHEF6qHTsJ+0vUKSit+nyisJQBU6vS3VLkmbJD1c/H6mtIrmocOHD7ec1qq1cdU2b95cynJee+21UpZz5MiRpuNr1qwpZfmY3ax7dttPSPovSX9s+7jtLWqE/CbbhyX9WfEcQI3NumePiNtaTPpcybUAqBBn0AFJEHYgCcIOJEGTiBKUecS9bi2Py7J27dpSlnPxxRc3HX/rrbeaji9evLiU9Q4C9uxAEoQdSIKwA0kQdiAJwg4kwdH4mrnzzjubju/Zs6fS9U5NTTUdP3v2bNPxVq2Th4aGSqupmUWLFjUd56j77NizA0kQdiAJwg4kQdiBJAg7kARH42tmbGxs9pkqcMkll8xp/lbXAxw4cKCMclAB9uxAEoQdSIKwA0kQdiAJwg4k0WkX129I+pKk6X5OD0bEs1UVieq1Oge+FY66zz+ddnGVpEciYl3xQ9CBmuu0iyuAeaabz+z32X7V9g7bl7WaiS6uQD10Gvbtkj4uaZ2kSUnfbjUjXVyBeugo7BFxMiLej4gPJP1A0vpyywJQto7Ojbe9IiImi6efl7S/vJJQpauvvnpO82/ZsqWiStBr7Xz19oSkGyQttX1c0tcl3WB7naSQNCHpy9WVCKAMnXZx/WEFtQCoEGfQAUkQdiAJwg4kwZ1qBtR7773XdPzgwYNzWs7ll19eRjmoAfbsQBKEHUiCsANJEHYgCcIOJMHReFzQtm3b+l0CSsKeHUiCsANJEHYgCcIOJEHYgSQIO5AEYQeSIOxAEoQdSIKwA0kQdiCJdm4lfaWkf5K0XI1bRz8aEd+zvUTSTknDatxO+taIeKe6UjEXl1566Zzmf+yxxyqqBHXRzp79nKSvRcRqSddK+ort1ZLul7Q7IlZJ2l08B1BT7XRxnYyIl4vHZyQdkjQkaaOksWK2MUm3VFQjgBLM6TO77WFJn5S0V9LyGS2g3lbjbX6z19DFFaiBtsNue5GkpyV9NSI+dOvSiAg1Ps//Drq4AvXQVthtL1Qj6D+KiJ8Uwydtryimr5B0qpoSAZRh1rDbthq93Q5FxHdmTNolaVPxeJOkZ8ovD0BZ2rkt1XWS/kbSL22/Uow9KOlhSU/Z3iLpTUm3VlIhgFK008X155LcYvLnyi0HQFU4gw5IgrADSRB2IAnCDiRB2IEkCDuQBGEHkiDsQBKEHUiCLq4Davv27U3H77333qbjd911V9PxVl1cr7vuujnV8/jjj89p/qpt3ry55bS61VoW9uxAEoQdSIKwA0kQdiAJwg4kwdH4AXXPPfc0HT927FjT8Yceeqjp+OHDh+c03sro6Oic5u+nF198sen4gQMHelxJudizA0kQdiAJwg4kQdiBJAg7kEQ3XVy/IelLkqZ7Oj0YEc9WVSjKsXXr1jmNt7Jy5coyymlpYmKi0uVfyNDQUN/WXaV2vnqb7uL6su1LJO2z/UIx7ZGI+FZ15QEoSzv3jZ+UNFk8PmN7uosrgHmkmy6uknSf7Vdt77B9WYvX0MUVqIFuurhul/RxSevU2PN/u9nr6OIK1EPHXVwj4mREvB8RH0j6gaT11ZUJoFvtHI1v2sXV9ori87wkfV7S/mpKRB0dPXq00uX382j88PBw39ZdpW66uN5me50aX8dNSPpyBfUBKEk3XVz5Th2YRziDDkiCsANJEHYgCe5Ug1oa1CPi/cSeHUiCsANJEHYgCcIOJEHYgSQIO5AEYQeSIOxAEoQdSIKwA0kQdiAJwg4kQdiBJAg7kARhB5Ig7EAShB1IYtaw2/592y/a/m/bB2z/QzG+0vZe26/b3mn7ourLBdCpdvbsv5Z0Y0Rco0arpw22r5W0TY0urp+Q9I6kLZVVCaBrs4Y9Gs4WTxcWPyHpRkk/LsbHJN1SRYEAytFur7cFRTeYU5JekHRE0rsRca6Y5bho4wzUWlthLxo4rpN0hRoNHP+k3RXQshmohzkdjY+IdyX9TNKnJS22PX0r6isknWjxGlo2AzXQztH4ZbYXF48vlnSTpENqhP4LxWybJD1TUY0AStBOk4gVksZsL1Djj8NTEfGvtg9KetL2P0r6hRptnQHUVDtdXF+V9Mkm42+o8fkdwDzAGXRAEoQdSIKwA0kQdiAJwg4kQdiBJAg7kARhB5Ig7EAShB1IgrADSRB2IAnCDiRB2IEkCDuQBGEHkiDsQBKEHUiCsANJEHYgCcIOJEHYgSS6adk8avuo7VeKn3WVVwugY+00iZhu2XzW9kJJP7f9b8W0v4uIH1/gtQBqop0mESGpWctmAPNIRy2bI2JvMWmr7VdtP2L791q8li6uQA101LLZ9hpJD6jRuvlTkpZI+vsWr6WLK1ADnbZs3hARk9Hwa0mPi75vQK3N+pnd9jJJv42Id2e0bN5me0VETNq2pFsk7Z9tWfv27Zuy/WbxdKmkqc5Ln3eyba+Ub5vrsL1/2GpCNy2b/6P4Q2BJr0i6Z7YFRcT/v4+3PR4RI22sfyBk214p3zbXfXu7adl8YyUVAagEZ9ABSfQz7I/2cd39kG17pXzbXOvtdeOcGQCDjrfxQBKEHUii52G3vcH2/9p+3fb9vV5/L9jeYfuU7f0zxpbYfsH24eL3Zf2ssUy2r7T9M9sHiysj/7YYH+RtbnU16Erbe4v/3zttX9TvWqf1NOzFd/Xfl/QXklZLus326l7W0COjkjacN3a/pN0RsUrS7uL5oDgn6WsRsVrStZK+Uvy7DvI2T18Neo2kdZI22L5W0jZJj0TEJyS9I2lL/0r8sF7v2ddLej0i3oiI30h6UtLGHtdQuYjYI+lX5w1vlDRWPB5T46zDgVCcOv1y8fiMpEOShjTY2xwR0exq0BslTV/2Xatt7nXYhyQdm/H8eDGWwfKImCwevy1peT+LqYrtYTVOwtqrAd/m868GlXRE0rsRca6YpVb/vzlA1wfFPQIG7jtP24skPS3pqxHx3sxpg7jN518NqsZVoLXV67CfkHTljOdXFGMZnLS9QpKK36f6XE+pirsYPS3pRxHxk2J4oLd52oyrQT8tabHt6dPQa/X/u9dhf0nSquKI5UWSvihpV49r6JddkjYVjzdJeqaPtZSquPLxh5IORcR3Zkwa5G1eZntx8Xj6atBDaoT+C8Vstdrmnp9BZ/svJX1X0gJJOyJia08L6AHbT0i6QY1LHk9K+rqkf5H0lKSrJL0p6daIOP8g3rxk+zOS/lPSLyV9UAw/qMbn9kHd5j9V4wDczKtBv2n7j9Q48LxE0i8k/XVxz4e+43RZIAkO0AFJEHYgCcIOJEHYgSQIO5AEYQeSIOxAEv8Hjq7tXiFKh0IAAAAASUVORK5CYII=\n",
>>>>>>> f8a21adff3a77e4deb5c29bb6054cc524217a24e
      "text/plain": [
       "<Figure size 432x288 with 1 Axes>"
      ]
     },
     "metadata": {
      "needs_background": "light"
     },
     "output_type": "display_data"
    }
   ],
   "source": [
    "test = augmented_x[120005]\n",
    "print(augmented_y[120005], japanese_character[augmented_y[120005]])\n",
    "plt.imshow(test)"
   ]
  },
  {
   "cell_type": "code",
<<<<<<< HEAD
   "execution_count": 53,
=======
   "execution_count": 31,
>>>>>>> f8a21adff3a77e4deb5c29bb6054cc524217a24e
   "id": "d02caf52",
   "metadata": {},
   "outputs": [
    {
     "name": "stdout",
     "output_type": "stream",
     "text": [
      "10 さ-sa\n"
     ]
    },
    {
     "data": {
      "text/plain": [
<<<<<<< HEAD
       "<matplotlib.image.AxesImage at 0x179710b81f0>"
      ]
     },
     "execution_count": 53,
=======
       "<matplotlib.image.AxesImage at 0x20ec9918340>"
      ]
     },
     "execution_count": 31,
>>>>>>> f8a21adff3a77e4deb5c29bb6054cc524217a24e
     "metadata": {},
     "output_type": "execute_result"
    },
    {
     "data": {
<<<<<<< HEAD
      "image/png": "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\n",
=======
      "image/png": "iVBORw0KGgoAAAANSUhEUgAAAPsAAAD5CAYAAADhukOtAAAAOXRFWHRTb2Z0d2FyZQBNYXRwbG90bGliIHZlcnNpb24zLjQuMywgaHR0cHM6Ly9tYXRwbG90bGliLm9yZy/MnkTPAAAACXBIWXMAAAsTAAALEwEAmpwYAAAOnElEQVR4nO3df4wU93nH8c8Dxa1VajCCInQ2vmt6joVwckhX5KiR5ToF06oSIEVWLLXCGMe2FEuOi6q6/ic0aiTHqmPnj4jKMcdRKbax4gCnyk2MaCQcKaJejGsc04BjDudOZ34oBoNkBfA9/WPnqjP5Drc/Zvb29nm/JHS7z+7OfEfc52b3uzPzmLsLQOebNd0DANAahB0IgrADQRB2IAjCDgRB2IEgfq+ZF5vZGknflTRb0nPu/sTVnr9w4ULv7u5uZpUArmJ4eFhnzpyx1GMNh93MZkv6nqRVkkYkvW5mQ+7+Tt5ruru7ValUGl0lgCn09/fnPtbM2/iVkt519/fc/aKkFyWtbWJ5AErUTNi7JP160v2RrPYpZvaAmVXMrHL69OkmVgegGaVP0Ln7s+7e7+79ixYtKnt1AHI0E/ZRSTdOun9DVgPQhpoJ++uSes2sx8yukfQVSUPFDAtA0RqejXf3y2b2sKSfqPrV24C7/6KwkQEoVFPfs7v7K5JeKWgsAErEEXRAEIQdCIKwA0EQdiAIwg4EQdiBIAg7EARhB4Ig7EAQhB0IgrADQRB2IAjCDgRB2IEgCDsQBGEHgiDsQBCEHQiCsANBEHYgCMIOBNFsF9dhSeclfSLpsrvnd5VDUx599NFk/ZlnnknWjx8/nqx3df1Ohy5J0pw5cxoaF2aOpsKe+Qt3P1PAcgCUiLfxQBDNht0lvWpmB83sgSIGBKAczb6N/6K7j5rZH0vaa2b/6+77Jz8h+yPwgCQtXbq0ydUBaFRTe3Z3H81+npK0S9LKxHNo2Qy0gYb37Gb2h5Jmufv57PZqSd8sbGT4lLxZ9zw9PT3Jet5s/MjISL1DwgzTzNv4xZJ2mdnEcp539x8XMioAhWumZfN7kj5f4FgAlIiv3oAgCDsQBGEHgijicFm0wKFDh5L1FStW1LWc0dHRZH3//v3J+u23317X8tG+2LMDQRB2IAjCDgRB2IEgCDsQBLPxM0RfX1+yfvjw4WT91ltvrWv5g4ODyTqz8Z2DPTsQBGEHgiDsQBCEHQiCsANBMBs/wy1fvjxZz7ve3/vvv5+sb9++PVmfNSu9P3juuedqGB3aCXt2IAjCDgRB2IEgCDsQBGEHgiDsQBBTfvVmZgOS/kbSKXdfntUWSNopqVvSsKS73f3D8oaJeuWdIDNv3ry6lrNz585kvd6v3vKaVtQrrxU1plbLnn1Q0porao9J2ufuvZL2ZfcBtLEpw541avzNFeW1knZkt3dIWlfssAAUrdHP7IvdfSy7/YGqraCSzOwBM6uYWeX06dMNrg5As5qeoHN3V7VPe97jdHEF2kCjYT9pZkskKft5qrghAShDoyfCDEnaIOmJ7OeewkaEQsyZMydZnz9/frJ+9uzZZP3ChQvJeta9t+XqXW/1jSekGvbsZvaCpJ9L+qyZjZjZJlVDvsrMjkn6y+w+gDY25Z7d3e/JeehLBY8FQIk4gg4IgrADQRB2IAguSzVNnn/++WT94sWLdS1n48aNRQyndKtWrUrWu7q66lpO3uWzMDX27EAQhB0IgrADQRB2IAjCDgTBbHzJLl26lKw/+OCDyXresehlmzt3brJe1Hj27EmfPnHttdcWsnxMjT07EARhB4Ig7EAQhB0IgrADQTAb36Hqvb563mx8UdcN3L9/f7J+1113FbJ8TI09OxAEYQeCIOxAEIQdCIKwA0E02sV1i6SvSpro5/S4u79S1iBnsrzrt58/fz5Z37t3b7KeNyve19fX0LhqdfTo0WT95ptvrms5Tz31VLLObHzrNNrFVZKedve+7B9BB9pco11cAcwwzXxmf9jM3jKzATO7Pu9JdHEF2kOjYd8q6TOS+iSNSUp/IBNdXIF20VDY3f2ku3/i7uOSvi9pZbHDAlC0ho6NN7Ml7j6W3V0v6e3ihhRb3vXVp0tvb2+yvm7dumR99+7dyXretwxbtmypq47G1fLV2wuS7pC00MxGJH1D0h1m1ifJJQ1LSl9jCUDbaLSL67YSxgKgRBxBBwRB2IEgCDsQBFeqQUOefPLJZH1oaChZHx8fT9bPnTtX2JhwdezZgSAIOxAEYQeCIOxAEIQdCMLcvWUr6+/v90ql0rL1ofXmzZuXrH/00Ud1LaeVv5edpL+/X5VKxVKPsWcHgiDsQBCEHQiCsANBEHYgCI6NhyRpYGAgWX/ttdfqWs7HH39cxHBQAvbsQBCEHQiCsANBEHYgCMIOBFHLpaRvlPTvkhareunoZ939u2a2QNJOSd2qXk76bnf/sLyhokz33Xdfsr5p06YWjwRlqWXPflnSZndfJuk2SV8zs2WSHpO0z917Je3L7gNoU7V0cR1z9zey2+clHZHUJWmtpB3Z03ZIWlfSGAEUoK7P7GbWLWmFpAOSFk9qAfWBqm/zU6+hiyvQBmoOu5nNlfSypK+7+6dOTvbqycfJE5Dp4gq0h5rCbmZzVA36D9z9R1n5pJktyR5fIulUOUMEUIRaZuNN1d5uR9z9O5MeGpK0QdIT2c89pYxwhrt06VKyPnv27GR91qz2+jY074oxx44dS9ZXr15d1/IfeeSRuseExtRyIsyfS/o7SYfN7M2s9riqIX/JzDZJOiHp7lJGCKAQtXRx/Zmk5DWtJH2p2OEAKEt7vWcEUBrCDgRB2IEguFJNyXp6epL1vNn4EydOlDmcwvT29ibrx48fb/FIUCv27EAQhB0IgrADQRB2IAjCDgTBbHwBtm3blvvY6OhoXcuqnorwu+hqimaxZweCIOxAEIQdCIKwA0EQdiAIZuMLcLVrq99///2FrGP9+vXJ+q5duwpZPjofe3YgCMIOBEHYgSAIOxAEYQeCaKaL6xZJX5U00dPpcXd/payBzlRHjx5N1m+55ZZkfXx8PFnfvXt3sp53LH3eFW+WLl2arKPz1fLV20QX1zfM7I8kHTSzvdljT7v7v5Y3PABFqeW68WOSxrLb581soosrgBmkmS6ukvSwmb1lZgNmdn3Oa+jiCrSBZrq4bpX0GUl9qu75n0q9ji6uQHtouIuru59090/cfVzS9yWtLG+YAJrVcBdXM1uSfZ6XpPWS3i5niDNbvddXv+mmmwpZb9716vNm47nee+drpovrPWbWp+rXccOSHixhfAAK0kwXV75TB2YQjqADgiDsQBCEHQiCK9VMk7xZ8VdffTVZX716dV3LzzvGfnh4OFnPO8b+3nvvrWu9eTZv3pysL1++vK7xPPTQQ8n61q1bGxtYIOzZgSAIOxAEYQeCIOxAEIQdCIKwA0FYK1sB9/f3e6VSadn6Iti4cWOyPjg42NqBtMh1112XrJ87d67FI2lP/f39qlQqye8t2bMDQRB2IAjCDgRB2IEgCDsQBCfCzHDbt2+vq553Qs2xY8eS9bwTZ6YLs+6NY88OBEHYgSAIOxAEYQeCmDLsZvYHZvbfZvY/ZvYLM/vnrN5jZgfM7F0z22lm15Q/XACNqmU2/reS7nT3C1lnmJ+Z2X9K+ntVu7i+aGb/JmmTqi2h0MbyLnuVp6jZ+LymFXloWlG8KffsXnUhuzsn++eS7pT0w6y+Q9K6MgYIoBi19nqbnXWDOSVpr6RfSTrr7pezp4yINs5AW6sp7FkDxz5JN6jawPGWWldAy2agPdQ1G+/uZyX9VNIXJM03s4nP/DdIGs15DS2bgTZQy2z8IjObn92+VtIqSUdUDf2Xs6dtkLSnpDECKEAts/FLJO0ws9mq/nF4yd3/w8zekfSimf2LpEOqtnVGh+nu7i5kOa28IhLSauni+pakFYn6e6p+fgcwA3AEHRAEYQeCIOxAEIQdCIKwA0EQdiAIwg4EQdiBIAg7EARhB4Ig7EAQhB0IgrADQRB2IAjCDgRB2IEgCDsQBGEHgiDsQBCEHQiCsANBEHYgiGZaNg+a2XEzezP711f6aAE0rJmWzZL0D+7+w6u8FkCbqKVJhEtKtWwGMIM01LLZ3Q9kD33LzN4ys6fN7PdzXksXV6ANNNSy2cyWS/onVVs3/5mkBZL+Mee1dHEF2kCjLZvXuPuYV/1W0nbR9w1oa1N+ZjezRZIuufvZSS2bv21mS9x9zMxM0jpJb0+1rIMHD54xsxPZ3YWSzjQ+9Bkn2vZK8ba5Hbb3prwHmmnZ/F/ZHwKT9Kakh6ZakLv///t4M6u4e38N6+8I0bZXirfN7b69zbRsvrOUEQEoBUfQAUFMZ9ifncZ1T4do2yvF2+a23l6rHjMDoNPxNh4IgrADQbQ87Ga2xsx+aWbvmtljrV5/K5jZgJmdMrO3J9UWmNleMzuW/bx+OsdYJDO70cx+ambvZGdGPpLVO3mb884G7TGzA9nv904zu2a6xzqhpWHPvqv/nqS/krRM0j1mtqyVY2iRQUlrrqg9Jmmfu/dK2pfd7xSXJW1292WSbpP0tez/tZO3eeJs0M9L6pO0xsxuk/RtSU+7+59K+lDSpukb4qe1es++UtK77v6eu1+U9KKktS0eQ+ncfb+k31xRXitpR3Z7h6pHHXaE7NDpN7Lb5yUdkdSlzt5md/fU2aB3Spo47buttrnVYe+S9OtJ90eyWgSL3X0su/2BpMXTOZiymFm3qgdhHVCHb/OVZ4NK+pWks+5+OXtKW/1+M0E3DbJrBHTcd55mNlfSy5K+7u4fTX6sE7f5yrNBVT0LtG21Ouyjkm6cdP+GrBbBSTNbIknZz1PTPJ5CZVcxelnSD9z9R1m5o7d5wqSzQb8gab6ZTRyG3la/360O++uSerMZy2skfUXSUIvHMF2GJG3Ibm+QtGcax1Ko7MzHbZKOuPt3Jj3Uydu8yMzmZ7cnzgY9omrov5w9ra22ueVH0JnZX0t6RtJsSQPu/q2WDqAFzOwFSXeoesrjSUnfkLRb0kuSlko6Ielud79yEm9GMrMvSnpN0mFJ41n5cVU/t3fqNn9O1Qm4yWeDftPM/kTViecFkg5J+tvsmg/TjsNlgSCYoAOCIOxAEIQdCIKwA0EQdiAIwg4EQdiBIP4PT6Bek4er5VQAAAAASUVORK5CYII=\n",
>>>>>>> f8a21adff3a77e4deb5c29bb6054cc524217a24e
      "text/plain": [
       "<Figure size 432x288 with 1 Axes>"
      ]
     },
     "metadata": {
      "needs_background": "light"
     },
     "output_type": "display_data"
    }
   ],
   "source": [
    "test = augmented_x[20006]\n",
    "print(augmented_y[20006], japanese_character[augmented_y[20006]])\n",
    "plt.imshow(test)"
   ]
  },
  {
   "cell_type": "markdown",
   "id": "b0404488",
   "metadata": {},
   "source": [
    "<h2> Saving </h2>"
   ]
  },
  {
   "cell_type": "code",
<<<<<<< HEAD
   "execution_count": 54,
=======
   "execution_count": 32,
>>>>>>> f8a21adff3a77e4deb5c29bb6054cc524217a24e
   "id": "5396dd10",
   "metadata": {},
   "outputs": [],
   "source": [
    "y_train = y_train.tolist()\n",
    "\n",
    "x_train.extend(augmented_x)\n",
    "y_train.extend(augmented_y)"
   ]
  },
  {
   "cell_type": "code",
<<<<<<< HEAD
   "execution_count": 55,
=======
   "execution_count": 33,
>>>>>>> f8a21adff3a77e4deb5c29bb6054cc524217a24e
   "id": "5145173c",
   "metadata": {},
   "outputs": [
    {
     "name": "stdout",
     "output_type": "stream",
     "text": [
      "196194 196194\n"
     ]
    }
   ],
   "source": [
    "print(len(x_train), len(y_train))"
   ]
  },
  {
   "cell_type": "code",
<<<<<<< HEAD
   "execution_count": 56,
=======
   "execution_count": 34,
>>>>>>> f8a21adff3a77e4deb5c29bb6054cc524217a24e
   "id": "db2b8d7b",
   "metadata": {},
   "outputs": [
    {
     "name": "stdout",
     "output_type": "stream",
     "text": [
      "Class=0, n=2168 (1.105%)\n",
      "Class=1, n=2176 (1.109%)\n",
      "Class=2, n=2176 (1.109%)\n",
      "Class=3, n=2168 (1.105%)\n",
      "Class=4, n=2176 (1.109%)\n",
      "Class=5, n=2136 (1.089%)\n",
      "Class=6, n=2168 (1.105%)\n",
      "Class=7, n=2176 (1.109%)\n",
      "Class=8, n=2168 (1.105%)\n",
      "Class=9, n=2168 (1.105%)\n",
      "Class=10, n=2168 (1.105%)\n",
      "Class=11, n=2112 (1.076%)\n",
      "Class=12, n=2168 (1.105%)\n",
      "Class=13, n=2168 (1.105%)\n",
      "Class=14, n=2160 (1.101%)\n",
      "Class=15, n=2168 (1.105%)\n",
      "Class=16, n=2176 (1.109%)\n",
      "Class=17, n=2168 (1.105%)\n",
      "Class=18, n=2176 (1.109%)\n",
      "Class=19, n=2168 (1.105%)\n",
      "Class=20, n=2176 (1.109%)\n",
      "Class=21, n=2168 (1.105%)\n",
      "Class=22, n=2176 (1.109%)\n",
      "Class=23, n=2168 (1.105%)\n",
      "Class=24, n=2176 (1.109%)\n",
      "Class=25, n=2168 (1.105%)\n",
      "Class=26, n=2176 (1.109%)\n",
      "Class=27, n=2168 (1.105%)\n",
      "Class=28, n=2176 (1.109%)\n",
      "Class=29, n=2160 (1.101%)\n",
      "Class=30, n=2168 (1.105%)\n",
      "Class=31, n=2176 (1.109%)\n",
      "Class=32, n=2168 (1.105%)\n",
      "Class=33, n=2176 (1.109%)\n",
      "Class=34, n=2168 (1.105%)\n",
      "Class=35, n=2176 (1.109%)\n",
      "Class=36, n=2168 (1.105%)\n",
      "Class=37, n=2176 (1.109%)\n",
      "Class=38, n=2168 (1.105%)\n",
      "Class=39, n=2176 (1.109%)\n",
      "Class=40, n=2168 (1.105%)\n",
      "Class=41, n=2176 (1.109%)\n",
      "Class=42, n=2168 (1.105%)\n",
      "Class=43, n=2176 (1.109%)\n",
      "Class=44, n=2168 (1.105%)\n",
      "Class=45, n=2176 (1.109%)\n",
      "Class=46, n=2106 (1.073%)\n",
      "Class=47, n=2111 (1.076%)\n",
      "Class=48, n=2106 (1.073%)\n",
      "Class=49, n=2113 (1.077%)\n",
      "Class=50, n=2112 (1.076%)\n",
      "Class=51, n=2110 (1.075%)\n",
      "Class=52, n=2110 (1.075%)\n",
      "Class=53, n=2116 (1.079%)\n",
      "Class=54, n=2108 (1.074%)\n",
      "Class=55, n=2092 (1.066%)\n",
      "Class=56, n=2110 (1.075%)\n",
      "Class=57, n=1840 (0.938%)\n",
      "Class=58, n=2110 (1.075%)\n",
      "Class=59, n=2112 (1.076%)\n",
      "Class=60, n=2110 (1.075%)\n",
      "Class=61, n=2108 (1.074%)\n",
      "Class=62, n=2062 (1.051%)\n",
      "Class=63, n=2092 (1.066%)\n",
      "Class=64, n=2104 (1.072%)\n",
      "Class=65, n=2110 (1.075%)\n",
      "Class=66, n=2108 (1.074%)\n",
      "Class=67, n=2106 (1.073%)\n",
      "Class=68, n=2106 (1.073%)\n",
      "Class=69, n=2110 (1.075%)\n",
      "Class=70, n=2108 (1.074%)\n",
      "Class=71, n=2110 (1.075%)\n",
      "Class=72, n=2094 (1.067%)\n",
      "Class=73, n=2106 (1.073%)\n",
      "Class=74, n=2102 (1.071%)\n",
      "Class=75, n=2100 (1.070%)\n",
      "Class=76, n=2106 (1.073%)\n",
      "Class=77, n=2106 (1.073%)\n",
      "Class=78, n=2106 (1.073%)\n",
      "Class=79, n=2106 (1.073%)\n",
      "Class=80, n=2052 (1.046%)\n",
      "Class=81, n=2096 (1.068%)\n",
      "Class=82, n=2106 (1.073%)\n",
      "Class=83, n=2106 (1.073%)\n",
      "Class=84, n=2100 (1.070%)\n",
      "Class=85, n=2082 (1.061%)\n",
      "Class=86, n=2104 (1.072%)\n",
      "Class=87, n=2096 (1.068%)\n",
      "Class=88, n=2092 (1.066%)\n",
      "Class=89, n=2102 (1.071%)\n",
      "Class=90, n=2084 (1.062%)\n",
      "Class=91, n=2082 (1.061%)\n"
     ]
    }
   ],
   "source": [
    "counter = Counter(np.sort(y_train))\n",
    "for k, v in counter.items():\n",
    "    per= v / len(y_train) * 100\n",
    "    print('Class=%d, n=%d (%.3f%%)' % (k, v, per))"
   ]
  },
  {
   "cell_type": "code",
<<<<<<< HEAD
   "execution_count": 57,
=======
   "execution_count": 35,
>>>>>>> f8a21adff3a77e4deb5c29bb6054cc524217a24e
   "id": "fc917ac1",
   "metadata": {},
   "outputs": [],
   "source": [
    "import os"
   ]
  },
  {
   "cell_type": "code",
<<<<<<< HEAD
   "execution_count": 58,
=======
   "execution_count": 36,
>>>>>>> f8a21adff3a77e4deb5c29bb6054cc524217a24e
   "id": "22b1e92c",
   "metadata": {},
   "outputs": [],
   "source": [
    "# Saving for Train\n",
    "for idx, img in enumerate(x_train):\n",
    "    img_format_string = str(idx) + \"_\" + japanese_character[y_train[idx]] +  \"_\" + str(y_train[idx]) + \"_train_\" + \".png\"\n",
    "    saving_string = os.path.join(\"Dataset\", \"Train_\", img_format_string)\n",
    "    save2 = os.path.join(\"obj\", img_format_string)\n",
    "    \n",
    "    cv2.imwrite(saving_string, img)\n",
    "    #cv2.imwrite(save2, cv2.resize(img, (64, 64)))"
   ]
  },
  {
   "cell_type": "code",
<<<<<<< HEAD
   "execution_count": 59,
=======
   "execution_count": 37,
>>>>>>> f8a21adff3a77e4deb5c29bb6054cc524217a24e
   "id": "f603adb2",
   "metadata": {},
   "outputs": [],
   "source": [
    "# Saving for test\n",
    "for idx, img in enumerate(x_test):\n",
    "    img_format_string = str(idx) + \"_\" + japanese_character[y_test[idx]] +  \"_\" + str(y_test[idx]) + \"_test_\" + \".png\"\n",
    "    saving_string = os.path.join(\"Dataset\", \"Test_\", img_format_string)\n",
    "    save2 = os.path.join(\"obj\", img_format_string)\n",
    "    \n",
    "    #cv2.imwrite(save2, cv2.resize(img, (64, 64)))\n",
    "    cv2.imwrite(saving_string, img)"
   ]
  },
  {
   "cell_type": "markdown",
   "id": "e3788936",
   "metadata": {},
   "source": [
    "<h2> Testing </h2>"
   ]
  },
  {
   "cell_type": "code",
<<<<<<< HEAD
   "execution_count": 25,
=======
   "execution_count": 38,
>>>>>>> f8a21adff3a77e4deb5c29bb6054cc524217a24e
   "id": "99db55cf",
   "metadata": {},
   "outputs": [
    {
     "data": {
      "text/plain": [
<<<<<<< HEAD
       "<matplotlib.image.AxesImage at 0x179c42d2940>"
      ]
     },
     "execution_count": 25,
=======
       "<matplotlib.image.AxesImage at 0x20ec9d11250>"
      ]
     },
     "execution_count": 38,
>>>>>>> f8a21adff3a77e4deb5c29bb6054cc524217a24e
     "metadata": {},
     "output_type": "execute_result"
    },
    {
     "data": {
<<<<<<< HEAD
      "image/png": "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\n",
=======
      "image/png": "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\n",
>>>>>>> f8a21adff3a77e4deb5c29bb6054cc524217a24e
      "text/plain": [
       "<Figure size 432x288 with 1 Axes>"
      ]
     },
     "metadata": {
      "needs_background": "light"
     },
     "output_type": "display_data"
    }
   ],
   "source": [
    "test_img = morphological_action(x_train[1000], action='erosion')\n",
    "plt.imshow(test_img)"
   ]
  },
  {
   "cell_type": "code",
   "execution_count": null,
   "id": "9ca5c3ac",
   "metadata": {},
   "outputs": [],
   "source": []
  },
  {
   "cell_type": "code",
   "execution_count": null,
   "id": "8b9f74fa",
   "metadata": {},
   "outputs": [],
   "source": []
  },
  {
   "cell_type": "code",
   "execution_count": null,
   "id": "5a647d7b",
   "metadata": {},
   "outputs": [],
   "source": []
  },
  {
   "cell_type": "code",
   "execution_count": null,
   "id": "38de18cb",
   "metadata": {},
   "outputs": [],
   "source": []
  },
  {
   "cell_type": "code",
   "execution_count": null,
   "id": "3e533113",
   "metadata": {},
   "outputs": [],
   "source": []
  }
 ],
 "metadata": {
  "kernelspec": {
   "display_name": "Python 3 (ipykernel)",
   "language": "python",
   "name": "python3"
  },
  "language_info": {
   "codemirror_mode": {
    "name": "ipython",
    "version": 3
   },
   "file_extension": ".py",
   "mimetype": "text/x-python",
   "name": "python",
   "nbconvert_exporter": "python",
   "pygments_lexer": "ipython3",
   "version": "3.8.12"
  }
 },
 "nbformat": 4,
 "nbformat_minor": 5
}
