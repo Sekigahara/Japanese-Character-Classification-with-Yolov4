{
 "cells": [
  {
   "cell_type": "code",
   "execution_count": 37,
   "id": "5da9c25d",
   "metadata": {},
   "outputs": [],
   "source": [
    "import numpy as np\n",
    "import cv2\n",
    "import matplotlib.pyplot as plt\n",
    "from scipy import ndimage"
   ]
  },
  {
   "cell_type": "code",
   "execution_count": 38,
   "id": "47705d67",
   "metadata": {},
   "outputs": [],
   "source": [
    "train_load = np.load(\"Utils\\\\dataset_train.npz\")\n",
    "test_load = np.load(\"Utils\\\\dataset_test.npz\")"
   ]
  },
  {
   "cell_type": "code",
   "execution_count": 39,
   "id": "11c22f75",
   "metadata": {},
   "outputs": [],
   "source": [
    "# Get train Data\n",
    "x_train_path = train_load['x_path']\n",
    "y_train = train_load['y_train']\n",
    "y_train_not_encoded = train_load['y_train_raw']"
   ]
  },
  {
   "cell_type": "code",
   "execution_count": 40,
   "id": "a50d4e98",
   "metadata": {},
   "outputs": [],
   "source": [
    "# Get Test Data\n",
    "x_test_path = test_load['x_path']\n",
    "y_test = test_load['y_train']\n",
    "y_test_not_encoded = test_load['y_train_raw']"
   ]
  },
  {
   "cell_type": "code",
   "execution_count": 41,
   "id": "870176ac",
   "metadata": {},
   "outputs": [],
   "source": [
    "# Load Required Augmentation\n",
    "import json\n",
    "\n",
    "f = open('Utils\\\\class_require_augment.json')\n",
    "balance_requirement = json.load(f)\n",
    "# ['0'] is supposed for label\n",
    "# ['1'] is supposed for how many times to augment to fulfill balance class"
   ]
  },
  {
   "cell_type": "code",
   "execution_count": 42,
   "id": "4506b055",
   "metadata": {},
   "outputs": [
    {
     "name": "stdout",
     "output_type": "stream",
     "text": [
      "Length of train : 64340\n",
      "Length of test  : 21446\n"
     ]
    }
   ],
   "source": [
    "# Check the Ratio\n",
    "print(\"Length of train : {}\".format(str(y_train.shape[0])))\n",
    "print(\"Length of test  : {}\".format(str(y_test.shape[0])))"
   ]
  },
  {
   "cell_type": "code",
   "execution_count": 43,
   "id": "aca602a5",
   "metadata": {},
   "outputs": [],
   "source": [
    "from Extract.hiragana import basic_hiragana_char\n",
    "from Extract.katakana import basic_katakana_char\n",
    "\n",
    "# Make List of Label in One Array\n",
    "japanese_character = []\n",
    "japanese_character.extend(basic_hiragana_char)\n",
    "japanese_character.extend(basic_katakana_char)"
   ]
  },
  {
   "cell_type": "code",
   "execution_count": 44,
   "id": "98ae4f1c",
   "metadata": {},
   "outputs": [],
   "source": [
    "# Load Data Test\n",
    "x_test = []\n",
    "for idx, path in enumerate(x_test_path):\n",
    "    img_temp = cv2.imread(path)\n",
    "    img_temp = cv2.cvtColor(img_temp, cv2.COLOR_BGR2RGB)\n",
    "    x_test.append(img_temp)"
   ]
  },
  {
   "cell_type": "markdown",
   "id": "f729e209",
   "metadata": {},
   "source": [
    "<h1> Data Augmentation </h1>"
   ]
  },
  {
   "cell_type": "code",
   "execution_count": 45,
   "id": "2204e4ae",
   "metadata": {},
   "outputs": [],
   "source": [
    "# Load image of the train first\n",
    "\n",
    "x_train = []\n",
    "for idx, path in enumerate(x_train_path):\n",
    "    img_temp = cv2.imread(path)\n",
    "    img_temp = cv2.cvtColor(img_temp, cv2.COLOR_BGR2RGB)\n",
    "    x_train.append(img_temp)"
   ]
  },
  {
   "cell_type": "code",
   "execution_count": 46,
   "id": "0f64a850",
   "metadata": {},
   "outputs": [
    {
     "name": "stdout",
     "output_type": "stream",
     "text": [
      "タ-ta\n",
      "Extract//ETL1//IMG_WHITE1\\10122_タ-ta_kana.png\n"
     ]
    },
    {
     "data": {
      "image/png": "[encoded data removed]",
      "text/plain": [
       "<Figure size 432x288 with 1 Axes>"
      ]
     },
     "metadata": {
      "needs_background": "light"
     },
     "output_type": "display_data"
    }
   ],
   "source": [
    "plt.imshow(x_train[100])\n",
    "print(japanese_character[y_train[100]])\n",
    "print(x_train_path[100])"
   ]
  },
  {
   "cell_type": "code",
   "execution_count": 47,
   "id": "48bd55bb",
   "metadata": {},
   "outputs": [
    {
     "name": "stdout",
     "output_type": "stream",
     "text": [
      "Class=0, n=271 (0.421%)\n",
      "Class=1, n=272 (0.423%)\n",
      "Class=2, n=272 (0.423%)\n",
      "Class=3, n=271 (0.421%)\n",
      "Class=4, n=272 (0.423%)\n",
      "Class=5, n=271 (0.421%)\n",
      "Class=6, n=272 (0.423%)\n",
      "Class=7, n=271 (0.421%)\n",
      "Class=8, n=272 (0.423%)\n",
      "Class=9, n=271 (0.421%)\n",
      "Class=10, n=272 (0.423%)\n",
      "Class=11, n=271 (0.421%)\n",
      "Class=12, n=271 (0.421%)\n",
      "Class=13, n=271 (0.421%)\n",
      "Class=14, n=272 (0.423%)\n",
      "Class=15, n=271 (0.421%)\n",
      "Class=16, n=272 (0.423%)\n",
      "Class=17, n=271 (0.421%)\n",
      "Class=18, n=272 (0.423%)\n",
      "Class=19, n=271 (0.421%)\n",
      "Class=20, n=272 (0.423%)\n",
      "Class=21, n=271 (0.421%)\n",
      "Class=22, n=272 (0.423%)\n",
      "Class=23, n=271 (0.421%)\n",
      "Class=24, n=272 (0.423%)\n",
      "Class=25, n=271 (0.421%)\n",
      "Class=26, n=272 (0.423%)\n",
      "Class=27, n=271 (0.421%)\n",
      "Class=28, n=272 (0.423%)\n",
      "Class=29, n=271 (0.421%)\n",
      "Class=30, n=272 (0.423%)\n",
      "Class=31, n=272 (0.423%)\n",
      "Class=32, n=271 (0.421%)\n",
      "Class=33, n=272 (0.423%)\n",
      "Class=34, n=271 (0.421%)\n",
      "Class=35, n=272 (0.423%)\n",
      "Class=36, n=271 (0.421%)\n",
      "Class=37, n=272 (0.423%)\n",
      "Class=38, n=271 (0.421%)\n",
      "Class=39, n=272 (0.423%)\n",
      "Class=40, n=271 (0.421%)\n",
      "Class=41, n=272 (0.423%)\n",
      "Class=42, n=271 (0.421%)\n",
      "Class=43, n=272 (0.423%)\n",
      "Class=44, n=271 (0.421%)\n",
      "Class=45, n=272 (0.423%)\n",
      "Class=46, n=1058 (1.644%)\n",
      "Class=47, n=2116 (3.289%)\n",
      "Class=48, n=2116 (3.289%)\n",
      "Class=49, n=2117 (3.290%)\n",
      "Class=50, n=1059 (1.646%)\n",
      "Class=51, n=1058 (1.644%)\n",
      "Class=52, n=1058 (1.644%)\n",
      "Class=53, n=1058 (1.644%)\n",
      "Class=54, n=1055 (1.640%)\n",
      "Class=55, n=1058 (1.644%)\n",
      "Class=56, n=1058 (1.644%)\n",
      "Class=57, n=1058 (1.644%)\n",
      "Class=58, n=1058 (1.644%)\n",
      "Class=59, n=1059 (1.646%)\n",
      "Class=60, n=1058 (1.644%)\n",
      "Class=61, n=1058 (1.644%)\n",
      "Class=62, n=1058 (1.644%)\n",
      "Class=63, n=1059 (1.646%)\n",
      "Class=64, n=1058 (1.644%)\n",
      "Class=65, n=1058 (1.644%)\n",
      "Class=66, n=1059 (1.646%)\n",
      "Class=67, n=1058 (1.644%)\n",
      "Class=68, n=1058 (1.644%)\n",
      "Class=69, n=1058 (1.644%)\n",
      "Class=70, n=1059 (1.646%)\n",
      "Class=71, n=1058 (1.644%)\n",
      "Class=72, n=1058 (1.644%)\n",
      "Class=73, n=1058 (1.644%)\n",
      "Class=74, n=1059 (1.646%)\n",
      "Class=75, n=1058 (1.644%)\n",
      "Class=76, n=1058 (1.644%)\n",
      "Class=77, n=1059 (1.646%)\n",
      "Class=78, n=1058 (1.644%)\n",
      "Class=79, n=1058 (1.644%)\n",
      "Class=80, n=1058 (1.644%)\n",
      "Class=81, n=1059 (1.646%)\n",
      "Class=82, n=1058 (1.644%)\n",
      "Class=83, n=1058 (1.644%)\n",
      "Class=84, n=1059 (1.646%)\n",
      "Class=85, n=1058 (1.644%)\n",
      "Class=86, n=1058 (1.644%)\n",
      "Class=87, n=1058 (1.644%)\n",
      "Class=88, n=1059 (1.646%)\n",
      "Class=89, n=1058 (1.644%)\n",
      "Class=90, n=1059 (1.646%)\n",
      "Class=91, n=1058 (1.644%)\n"
     ]
    }
   ],
   "source": [
    "from collections import Counter\n",
    "\n",
    "counter = Counter(np.sort(y_train))\n",
    "for k, v in counter.items():\n",
    "    per= v / len(y_train) * 100\n",
    "    print('Class=%d, n=%d (%.3f%%)' % (k, v, per))"
   ]
  },
  {
   "cell_type": "markdown",
   "id": "5e5a891f",
   "metadata": {},
   "source": [
    "<h4> List Augmented Method </h4>\n",
    "1. Resize 48 px </br>\n",
    "2. Resize 36 px </br>\n",
    "3. Erotion </br>\n",
    "4. Dilation </br>\n",
    "5. Brightness"
   ]
  },
  {
   "cell_type": "code",
   "execution_count": 48,
   "id": "bd07ead8",
   "metadata": {},
   "outputs": [],
   "source": [
    "def brightness_settings(img, brightness=255):    \n",
    "    if brightness != 0:\n",
    "        if brightness > 0:\n",
    "            shadow = brightness\n",
    "            highlight = 255\n",
    "        else:\n",
    "            shadow = 0\n",
    "            highlight = 255 + brightness\n",
    "        alpha_b = (highlight - shadow)/255\n",
    "        gamma_b = shadow\n",
    "        buf = cv2.addWeighted(img, alpha_b, img, 0, gamma_b)\n",
    "    else:\n",
    "        buf = img.copy()\n",
    "        \n",
    "    return buf\n",
    "\n",
    "def morphological_action(img, action):\n",
    "    kernel = np.ones((1, 1), np.uint8)\n",
    "    if action == 'dilation':\n",
    "        return cv2.erode(img, kernel, iterations=1)\n",
    "    if action == 'erosion':\n",
    "        return cv2.dilate(img, kernel, iterations=1)\n",
    "    \n",
    "def rotation(img, direction='left', degree=45):\n",
    "    rows, cols = img.shape[0], img.shape[1]\n",
    "    img_center = (cols / 2, rows / 2)\n",
    "    \n",
    "    if direction == 'left':\n",
    "        rotate_mat = cv2.getRotationMatrix2D(img_center, degree, 1)\n",
    "    else:\n",
    "        rotate_mat = cv2.getRotationMatrix2D(img_center, 360-degree, 1)\n",
    "    \n",
    "    return cv2.warpAffine(img, rotate_mat, (cols, rows), \n",
    "                          borderMode=cv2.BORDER_CONSTANT,\n",
    "                          borderValue=(255, 255, 255))"
   ]
  },
  {
   "cell_type": "code",
   "execution_count": 49,
   "id": "9411d38a",
   "metadata": {},
   "outputs": [],
   "source": [
    "# First Augment\n",
    "# 0. No Augment\n",
    "# 1. Erosion\n",
    "# 2. Dilation\n",
    "# 3. brightness\n",
    "\n",
    "# Rotation\n",
    "# 0. No rotation\n",
    "# 1. Resize 48\n",
    "# 2. Resize 36\n",
    "\n",
    "import random\n",
    "\n",
    "def generate_random_combination(n_combination=2):\n",
    "    combination = []\n",
    "    \n",
    "    itr = 0\n",
    "    # Looping to generate n combination\n",
    "    # Only possible for 11 combination, if 11 combination has been fulfilled loop may go infinity\n",
    "    while itr < n_combination:\n",
    "        # Generate with range 0f 0-3 and 0-2\n",
    "        temp = [random.randrange(0, 4), random.randrange(0, 3)]\n",
    "        \n",
    "        # Avoid combination [0, 0]\n",
    "        if temp == [0, 0]:\n",
    "            continue\n",
    "        \n",
    "        # Assign for first iteration\n",
    "        if itr == 0:\n",
    "            combination.append(temp)\n",
    "            itr += 1\n",
    "        \n",
    "        # Assign for second and later iteration\n",
    "        if itr != 0:      \n",
    "            # Gather Information upwards/backward of array\n",
    "            isTheSame = False\n",
    "            for data in combination:\n",
    "                if data == temp:\n",
    "                    isTheSame = True\n",
    "                    break\n",
    "                    \n",
    "            # if no similiarity to backward array temp succesfully added\n",
    "            if isTheSame == False:\n",
    "                combination.append(temp)\n",
    "                itr += 1\n",
    "            else:\n",
    "                continue\n",
    "\n",
    "    return np.asarray(combination)"
   ]
  },
  {
   "cell_type": "code",
   "execution_count": null,
   "id": "b475f83b",
   "metadata": {},
   "outputs": [],
   "source": []
  },
  {
   "cell_type": "code",
   "execution_count": null,
   "id": "549343e5",
   "metadata": {},
   "outputs": [],
   "source": []
  },
  {
   "cell_type": "code",
   "execution_count": 50,
   "id": "d7436f03",
   "metadata": {},
   "outputs": [],
   "source": [
    "# Lets Augment\n",
    "augmented_x = []\n",
    "augmented_y = []\n",
    "for idx, character in enumerate(japanese_character):\n",
    "    # Generate Random Combination for augmentation Each Classes\n",
    "    combination = generate_random_combination(balance_requirement['1'][idx] - 1)\n",
    "\n",
    "    # Eliminate empty combination(Eg. Class which dont need any augmentation)\n",
    "    if len(combination) == 0:\n",
    "        continue\n",
    "    \n",
    "    # loop the Combination array\n",
    "    current_class = idx\n",
    "    for idx_comb, combinated in enumerate(combination):\n",
    "        # Loop Through the image\n",
    "        for idx_img, img in enumerate(x_train):\n",
    "            if y_train[idx_img] == current_class:\n",
    "                # Check for the first Augmentation\n",
    "                temp = img\n",
    "                if combinated[0] == 1:\n",
    "                    temp = morphological_action(temp, action='erosion')\n",
    "                if combinated[0] == 2:\n",
    "                    temp = morphological_action(temp, action='dilation')\n",
    "                if combinated[0] == 3:\n",
    "                    temp = brightness_settings(temp, brightness=50)\n",
    "                \n",
    "                if combinated[1] == 1:\n",
    "                    #temp = rotation(temp, direction='left', degree=45)\n",
    "                    temp = cv2.resize(temp, (48, 48))\n",
    "                if combinated[1] == 2:\n",
    "                    temp = cv2.resize(temp, (36, 36))\n",
    "                    \n",
    "                augmented_x.append(temp)\n",
    "                augmented_y.append(current_class)"
   ]
  },
  {
   "cell_type": "code",
   "execution_count": 51,
   "id": "5d964930",
   "metadata": {},
   "outputs": [
    {
     "data": {
      "text/plain": [
       "132925"
      ]
     },
     "execution_count": 51,
     "metadata": {},
     "output_type": "execute_result"
    }
   ],
   "source": [
    "len(augmented_y)"
   ]
  },
  {
   "cell_type": "markdown",
   "id": "370dc520",
   "metadata": {},
   "source": [
    "<h2> Validating </h2>"
   ]
  },
  {
   "cell_type": "code",
   "execution_count": 52,
   "id": "a3016af1",
   "metadata": {},
   "outputs": [
    {
     "name": "stdout",
     "output_type": "stream",
     "text": [
      "79 メ-me\n"
     ]
    },
    {
     "data": {
      "text/plain": [
       "<matplotlib.image.AxesImage at 0x179681ffd60>"
      ]
     },
     "execution_count": 52,
     "metadata": {},
     "output_type": "execute_result"
    },
    {
     "data": {
      "image/png": "[encoded data removed]",
      "text/plain": [
       "<Figure size 432x288 with 1 Axes>"
      ]
     },
     "metadata": {
      "needs_background": "light"
     },
     "output_type": "display_data"
    }
   ],
   "source": [
    "test = augmented_x[120005]\n",
    "print(augmented_y[120005], japanese_character[augmented_y[120005]])\n",
    "plt.imshow(test)"
   ]
  },
  {
   "cell_type": "code",
   "execution_count": 53,
   "id": "d02caf52",
   "metadata": {},
   "outputs": [
    {
     "name": "stdout",
     "output_type": "stream",
     "text": [
      "10 さ-sa\n"
     ]
    },
    {
     "data": {
      "text/plain": [
       "<matplotlib.image.AxesImage at 0x179710b81f0>"
      ]
     },
     "execution_count": 53,
     "metadata": {},
     "output_type": "execute_result"
    },
    {
     "data": {
      "image/png": "[encoded data removed]",
      "text/plain": [
       "<Figure size 432x288 with 1 Axes>"
      ]
     },
     "metadata": {
      "needs_background": "light"
     },
     "output_type": "display_data"
    }
   ],
   "source": [
    "test = augmented_x[20006]\n",
    "print(augmented_y[20006], japanese_character[augmented_y[20006]])\n",
    "plt.imshow(test)"
   ]
  },
  {
   "cell_type": "markdown",
   "id": "b0404488",
   "metadata": {},
   "source": [
    "<h2> Saving </h2>"
   ]
  },
  {
   "cell_type": "code",
   "execution_count": 54,
   "id": "5396dd10",
   "metadata": {},
   "outputs": [],
   "source": [
    "y_train = y_train.tolist()\n",
    "\n",
    "x_train.extend(augmented_x)\n",
    "y_train.extend(augmented_y)"
   ]
  },
  {
   "cell_type": "code",
   "execution_count": 55,
   "id": "5145173c",
   "metadata": {},
   "outputs": [
    {
     "name": "stdout",
     "output_type": "stream",
     "text": [
      "197265 197265\n"
     ]
    }
   ],
   "source": [
    "print(len(x_train), len(y_train))"
   ]
  },
  {
   "cell_type": "code",
   "execution_count": 56,
   "id": "db2b8d7b",
   "metadata": {},
   "outputs": [
    {
     "name": "stdout",
     "output_type": "stream",
     "text": [
      "Class=0, n=2168 (1.099%)\n",
      "Class=1, n=2176 (1.103%)\n",
      "Class=2, n=2176 (1.103%)\n",
      "Class=3, n=2168 (1.099%)\n",
      "Class=4, n=2176 (1.103%)\n",
      "Class=5, n=2168 (1.099%)\n",
      "Class=6, n=2176 (1.103%)\n",
      "Class=7, n=2168 (1.099%)\n",
      "Class=8, n=2176 (1.103%)\n",
      "Class=9, n=2168 (1.099%)\n",
      "Class=10, n=2176 (1.103%)\n",
      "Class=11, n=2168 (1.099%)\n",
      "Class=12, n=2168 (1.099%)\n",
      "Class=13, n=2168 (1.099%)\n",
      "Class=14, n=2176 (1.103%)\n",
      "Class=15, n=2168 (1.099%)\n",
      "Class=16, n=2176 (1.103%)\n",
      "Class=17, n=2168 (1.099%)\n",
      "Class=18, n=2176 (1.103%)\n",
      "Class=19, n=2168 (1.099%)\n",
      "Class=20, n=2176 (1.103%)\n",
      "Class=21, n=2168 (1.099%)\n",
      "Class=22, n=2176 (1.103%)\n",
      "Class=23, n=2168 (1.099%)\n",
      "Class=24, n=2176 (1.103%)\n",
      "Class=25, n=2168 (1.099%)\n",
      "Class=26, n=2176 (1.103%)\n",
      "Class=27, n=2168 (1.099%)\n",
      "Class=28, n=2176 (1.103%)\n",
      "Class=29, n=2168 (1.099%)\n",
      "Class=30, n=2176 (1.103%)\n",
      "Class=31, n=2176 (1.103%)\n",
      "Class=32, n=2168 (1.099%)\n",
      "Class=33, n=2176 (1.103%)\n",
      "Class=34, n=2168 (1.099%)\n",
      "Class=35, n=2176 (1.103%)\n",
      "Class=36, n=2168 (1.099%)\n",
      "Class=37, n=2176 (1.103%)\n",
      "Class=38, n=2168 (1.099%)\n",
      "Class=39, n=2176 (1.103%)\n",
      "Class=40, n=2168 (1.099%)\n",
      "Class=41, n=2176 (1.103%)\n",
      "Class=42, n=2168 (1.099%)\n",
      "Class=43, n=2176 (1.103%)\n",
      "Class=44, n=2168 (1.099%)\n",
      "Class=45, n=2176 (1.103%)\n",
      "Class=46, n=2116 (1.073%)\n",
      "Class=47, n=2116 (1.073%)\n",
      "Class=48, n=2116 (1.073%)\n",
      "Class=49, n=2117 (1.073%)\n",
      "Class=50, n=2118 (1.074%)\n",
      "Class=51, n=2116 (1.073%)\n",
      "Class=52, n=2116 (1.073%)\n",
      "Class=53, n=2116 (1.073%)\n",
      "Class=54, n=2110 (1.070%)\n",
      "Class=55, n=2116 (1.073%)\n",
      "Class=56, n=2116 (1.073%)\n",
      "Class=57, n=2116 (1.073%)\n",
      "Class=58, n=2116 (1.073%)\n",
      "Class=59, n=2118 (1.074%)\n",
      "Class=60, n=2116 (1.073%)\n",
      "Class=61, n=2116 (1.073%)\n",
      "Class=62, n=2116 (1.073%)\n",
      "Class=63, n=2118 (1.074%)\n",
      "Class=64, n=2116 (1.073%)\n",
      "Class=65, n=2116 (1.073%)\n",
      "Class=66, n=2118 (1.074%)\n",
      "Class=67, n=2116 (1.073%)\n",
      "Class=68, n=2116 (1.073%)\n",
      "Class=69, n=2116 (1.073%)\n",
      "Class=70, n=2118 (1.074%)\n",
      "Class=71, n=2116 (1.073%)\n",
      "Class=72, n=2116 (1.073%)\n",
      "Class=73, n=2116 (1.073%)\n",
      "Class=74, n=2118 (1.074%)\n",
      "Class=75, n=2116 (1.073%)\n",
      "Class=76, n=2116 (1.073%)\n",
      "Class=77, n=2118 (1.074%)\n",
      "Class=78, n=2116 (1.073%)\n",
      "Class=79, n=2116 (1.073%)\n",
      "Class=80, n=2116 (1.073%)\n",
      "Class=81, n=2118 (1.074%)\n",
      "Class=82, n=2116 (1.073%)\n",
      "Class=83, n=2116 (1.073%)\n",
      "Class=84, n=2118 (1.074%)\n",
      "Class=85, n=2116 (1.073%)\n",
      "Class=86, n=2116 (1.073%)\n",
      "Class=87, n=2116 (1.073%)\n",
      "Class=88, n=2118 (1.074%)\n",
      "Class=89, n=2116 (1.073%)\n",
      "Class=90, n=2118 (1.074%)\n",
      "Class=91, n=2116 (1.073%)\n"
     ]
    }
   ],
   "source": [
    "counter = Counter(np.sort(y_train))\n",
    "for k, v in counter.items():\n",
    "    per= v / len(y_train) * 100\n",
    "    print('Class=%d, n=%d (%.3f%%)' % (k, v, per))"
   ]
  },
  {
   "cell_type": "code",
   "execution_count": 57,
   "id": "fc917ac1",
   "metadata": {},
   "outputs": [],
   "source": [
    "import os"
   ]
  },
  {
   "cell_type": "code",
   "execution_count": 58,
   "id": "22b1e92c",
   "metadata": {},
   "outputs": [],
   "source": [
    "# Saving for Train\n",
    "for idx, img in enumerate(x_train):\n",
    "    img_format_string = str(idx) + \"_\" + japanese_character[y_train[idx]] +  \"_\" + str(y_train[idx]) + \"_train_\" + \".png\"\n",
    "    saving_string = os.path.join(\"Dataset\", \"Train_\", img_format_string)\n",
    "    save2 = os.path.join(\"obj\", img_format_string)\n",
    "    \n",
    "    cv2.imwrite(saving_string, img)\n",
    "    #cv2.imwrite(save2, cv2.resize(img, (64, 64)))"
   ]
  },
  {
   "cell_type": "code",
   "execution_count": 59,
   "id": "f603adb2",
   "metadata": {},
   "outputs": [],
   "source": [
    "# Saving for test\n",
    "for idx, img in enumerate(x_test):\n",
    "    img_format_string = str(idx) + \"_\" + japanese_character[y_test[idx]] +  \"_\" + str(y_test[idx]) + \"_test_\" + \".png\"\n",
    "    saving_string = os.path.join(\"Dataset\", \"Test_\", img_format_string)\n",
    "    save2 = os.path.join(\"obj\", img_format_string)\n",
    "    \n",
    "    #cv2.imwrite(save2, cv2.resize(img, (64, 64)))\n",
    "    cv2.imwrite(saving_string, img)"
   ]
  },
  {
   "cell_type": "markdown",
   "id": "e3788936",
   "metadata": {},
   "source": [
    "<h2> Testing </h2>"
   ]
  },
  {
   "cell_type": "code",
   "execution_count": 25,
   "id": "99db55cf",
   "metadata": {},
   "outputs": [
    {
     "data": {
      "text/plain": [
       "<matplotlib.image.AxesImage at 0x179c42d2940>"
      ]
     },
     "execution_count": 25,
     "metadata": {},
     "output_type": "execute_result"
    },
    {
     "data": {
      "image/png": "[encoded data removed]",
      "text/plain": [
       "<Figure size 432x288 with 1 Axes>"
      ]
     },
     "metadata": {
      "needs_background": "light"
     },
     "output_type": "display_data"
    }
   ],
   "source": [
    "test_img = morphological_action(x_train[1000], action='erosion')\n",
    "plt.imshow(test_img)"
   ]
  },
  {
   "cell_type": "code",
   "execution_count": null,
   "id": "9ca5c3ac",
   "metadata": {},
   "outputs": [],
   "source": []
  },
  {
   "cell_type": "code",
   "execution_count": null,
   "id": "8b9f74fa",
   "metadata": {},
   "outputs": [],
   "source": []
  },
  {
   "cell_type": "code",
   "execution_count": null,
   "id": "5a647d7b",
   "metadata": {},
   "outputs": [],
   "source": []
  },
  {
   "cell_type": "code",
   "execution_count": null,
   "id": "38de18cb",
   "metadata": {},
   "outputs": [],
   "source": []
  },
  {
   "cell_type": "code",
   "execution_count": null,
   "id": "3e533113",
   "metadata": {},
   "outputs": [],
   "source": []
  }
 ],
 "metadata": {
  "kernelspec": {
   "display_name": "Python 3 (ipykernel)",
   "language": "python",
   "name": "python3"
  },
  "language_info": {
   "codemirror_mode": {
    "name": "ipython",
    "version": 3
   },
   "file_extension": ".py",
   "mimetype": "text/x-python",
   "name": "python",
   "nbconvert_exporter": "python",
   "pygments_lexer": "ipython3",
   "version": "3.8.12"
  }
 },
 "nbformat": 4,
 "nbformat_minor": 5
}
