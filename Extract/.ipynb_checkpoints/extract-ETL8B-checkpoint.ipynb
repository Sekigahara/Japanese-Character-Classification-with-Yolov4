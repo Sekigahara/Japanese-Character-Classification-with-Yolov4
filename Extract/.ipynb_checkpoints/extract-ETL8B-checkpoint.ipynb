{
 "cells": [
  {
   "cell_type": "code",
   "execution_count": 1,
   "id": "latter-wrist",
   "metadata": {},
   "outputs": [],
   "source": [
    "import os\n",
    "import time\n",
    "import math\n",
    "import re\n",
    "import struct\n",
    "import traceback\n",
    "import codecs\n",
    "\n",
    "import bitstring\n",
    "\n",
    "import numpy as np\n",
    "import matplotlib.pyplot as plt\n",
    "# import cv2\n",
    "import pandas as pd\n",
    "\n",
    "from PIL import Image\n",
    "import IPython.display as display\n",
    "\n",
    "from list_char import JIS0208"
   ]
  },
  {
   "cell_type": "code",
   "execution_count": 2,
   "id": "charged-story",
   "metadata": {},
   "outputs": [],
   "source": [
    "file_list = [\n",
    "    'ETL8B' + '/ETL8B2C1',\n",
    "    'ETL8B' + '/ETL8B2C2',\n",
    "    'ETL8B' + '/ETL8B2C3',\n",
    "]\n",
    "\n",
    "filename = file_list[0]\n",
    "file_stream = bitstring.ConstBitStream(filename = filename)"
   ]
  },
  {
   "cell_type": "markdown",
   "id": "amber-chocolate",
   "metadata": {},
   "source": [
    "<h4> The First Record of each file is zero padded dummy </h4>"
   ]
  },
  {
   "cell_type": "code",
   "execution_count": 12,
   "id": "traditional-posting",
   "metadata": {},
   "outputs": [
    {
     "name": "stdout",
     "output_type": "stream",
     "text": [
      "あ\n"
     ]
    },
    {
     "data": {
      "text/plain": [
       "<matplotlib.colorbar.Colorbar at 0x1cf6b3ff400>"
      ]
     },
     "execution_count": 12,
     "metadata": {},
     "output_type": "execute_result"
    },
    {
     "data": {
      "image/png": "[encoded data removed]",
      "text/plain": [
       "<Figure size 432x288 with 2 Axes>"
      ]
     },
     "metadata": {
      "needs_background": "light"
     },
     "output_type": "display_data"
    }
   ],
   "source": [
    "record = file_stream.readlist('int:16,uint:16,uint:32,bytes:504')\n",
    "record_dict = {\n",
    "    'sheet_number': record[0], # type: int - Serial Sheet Number\n",
    "    'JIS_KANJI_CODE': record[1], # type: binary - JIS Kanji Code (JIS X 0208)\n",
    "    'JIS_READING': record[2], # type: ASCII - JIS Typical Reading (e.g. 'AI.M')\n",
    "    'image_data': record[3], # type: bytes\n",
    "}\n",
    "\n",
    "IMG_WIDTH = 64\n",
    "IMG_HEIGHT = 63\n",
    "\n",
    "# Extract Unicode\n",
    "char_code = record_dict['JIS_KANJI_CODE']\n",
    "if char_code in JIS0208:\n",
    "    unicode_char = JIS0208[char_code]\n",
    "else:\n",
    "    unicode_char = 'null_' + repr(char_code)\n",
    "\n",
    "np_img = np.array(Image.frombytes('1', (IMG_WIDTH, IMG_HEIGHT), record_dict['image_data'], 'raw')).astype('int')\n",
    "print(unicode_char)\n",
    "plt.imshow(np_img)\n",
    "plt.colorbar()"
   ]
  },
  {
   "cell_type": "code",
   "execution_count": 11,
   "id": "threaded-exercise",
   "metadata": {},
   "outputs": [
    {
     "data": {
      "text/plain": [
       "1093552201"
      ]
     },
     "execution_count": 11,
     "metadata": {},
     "output_type": "execute_result"
    }
   ],
   "source": [
    "total_sample = 0\n",
    "record_count = {}\n",
    "\n",
    "for filename in file_list:\n",
    "    file_stream = bitstring.ConstBitStream(filename = filename)"
   ]
  },
  {
   "cell_type": "code",
   "execution_count": null,
   "id": "relative-moisture",
   "metadata": {},
   "outputs": [],
   "source": []
  }
 ],
 "metadata": {
  "kernelspec": {
   "display_name": "Python 3",
   "language": "python",
   "name": "python3"
  },
  "language_info": {
   "codemirror_mode": {
    "name": "ipython",
    "version": 3
   },
   "file_extension": ".py",
   "mimetype": "text/x-python",
   "name": "python",
   "nbconvert_exporter": "python",
   "pygments_lexer": "ipython3",
   "version": "3.8.0"
  }
 },
 "nbformat": 4,
 "nbformat_minor": 5
}
