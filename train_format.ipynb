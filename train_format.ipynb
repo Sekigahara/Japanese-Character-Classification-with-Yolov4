{
 "cells": [
  {
   "cell_type": "code",
   "execution_count": 10,
   "id": "07212126",
   "metadata": {},
   "outputs": [],
   "source": [
    "import numpy as np\n",
    "import glob\n",
    "import os\n",
    "import cv2\n",
    "from Extract.hiragana import basic_hiragana_char"
   ]
  },
  {
   "cell_type": "code",
   "execution_count": 11,
   "id": "69b15ef6",
   "metadata": {},
   "outputs": [],
   "source": [
    "train_path = \"Dataset//Train_\"\n",
    "test_path = \"Dataset//Test_\""
   ]
  },
  {
   "cell_type": "code",
   "execution_count": 12,
   "id": "4e94f6d9",
   "metadata": {},
   "outputs": [],
   "source": [
    "train = glob.glob(os.path.join(train_path, \"*\"))\n",
    "test = glob.glob(os.path.join(test_path, \"*\"))"
   ]
  },
  {
   "cell_type": "code",
   "execution_count": null,
   "id": "8d0887a8",
   "metadata": {},
   "outputs": [],
   "source": []
  },
  {
   "cell_type": "code",
   "execution_count": 13,
   "id": "1c7ef842",
   "metadata": {},
   "outputs": [],
   "source": [
    "def convert_yolo_format(size, box=(0, 64, 0, 64)):\n",
    "    dw = 1./size[0]\n",
    "    dh = 1./size[1]\n",
    "    x = (box[0] + box[1])/2.0\n",
    "    y = (box[2] + box[3])/2.0\n",
    "    w = box[1] - box[0]\n",
    "    h = box[3] - box[2]\n",
    "    x = x*dw\n",
    "    w = w*dw\n",
    "    y = y*dh\n",
    "    h = h*dh\n",
    "    \n",
    "    return x, y, w, h"
   ]
  },
  {
   "cell_type": "code",
   "execution_count": 29,
   "id": "f45b22f0",
   "metadata": {},
   "outputs": [],
   "source": [
    "txt_path = \"obj\"\n",
    "def yolo_formatting(list_path):\n",
    "    for idx, path in enumerate(list_path):\n",
    "        # Check is hiragana or not\n",
    "        char_temp = path.split(\"//\")[1].split(\".\")[0].split(\"_\")[2]\n",
    "        if char_temp in basic_hiragana_char:\n",
    "            img = cv2.imread(path, cv2.COLOR_BGR2RGB)\n",
    "\n",
    "            w = img.shape[0]\n",
    "            h = img.shape[1]\n",
    "            x_center,y_center,width,height=convert_yolo_format((w, h), (0, w, 0, h))\n",
    "\n",
    "\n",
    "            label = path.split(\"\\\\\")[1].split(\"_\")[2].split(\".\")[0]\n",
    "            fname = path.split(\"\\\\\")[1].split(\".\")[0]\n",
    "            with open(os.path.join(txt_path, fname) + \".txt\", 'w') as f:\n",
    "                f.write(label + \" \" + str(x_center) + \" \" + str(y_center) + \" \" + str(width) + \" \" + str(height))\n",
    "\n",
    "            save_path = \"obj/hiragana-format/obj//\" + path.split(\"//\")[1].split(\"\\\\\")[1]\n",
    "            cv2.imwrite(save_path, img)\n",
    "        else:\n",
    "            continue"
   ]
  },
  {
   "cell_type": "code",
   "execution_count": 30,
   "id": "47b135a5",
   "metadata": {},
   "outputs": [],
   "source": [
    "yolo_formatting(train)\n",
    "yolo_formatting(test)"
   ]
  },
  {
   "cell_type": "code",
   "execution_count": 26,
   "id": "b021aa91",
   "metadata": {},
   "outputs": [
    {
     "data": {
      "text/plain": [
       "False"
      ]
     },
     "execution_count": 26,
     "metadata": {},
     "output_type": "execute_result"
    }
   ],
   "source": []
  },
  {
   "cell_type": "code",
   "execution_count": 31,
   "id": "ba924522",
   "metadata": {},
   "outputs": [],
   "source": [
    "test_path = \"Dataset/Test_\"\n",
    "test = glob.glob(os.path.join(test_path, \"*\"))"
   ]
  },
  {
   "cell_type": "code",
   "execution_count": 42,
   "id": "5eb92453",
   "metadata": {},
   "outputs": [
    {
     "name": "stdout",
     "output_type": "stream",
     "text": [
      "99776\n"
     ]
    }
   ],
   "source": [
    "total_train = 0\n",
    "with open(\"hiragana-format/train.txt\", 'w') as f:\n",
    "    for idx, path in enumerate(train):\n",
    "        char_temp = path.split(\"//\")[1].split(\".\")[0].split(\"_\")[2]\n",
    "        if char_temp in basic_hiragana_char:\n",
    "            fname = path.split(\"\\\\\")[1]\n",
    "            full_path = \"data\" + \"/\" + \"obj\" + \"/\" + fname\n",
    "            f.write(full_path + \"\\n\")\n",
    "            total_train = total_train + 1\n",
    "print(total_train)"
   ]
  },
  {
   "cell_type": "code",
   "execution_count": 41,
   "id": "4b1d906b",
   "metadata": {},
   "outputs": [
    {
     "name": "stdout",
     "output_type": "stream",
     "text": [
      "4157\n"
     ]
    }
   ],
   "source": [
    "total_test = 0\n",
    "with open(\"hiragana-format/test.txt\", 'w') as f:\n",
    "    for idx, path in enumerate(test):\n",
    "        char_temp = path.split(\"/\")[1].split(\".\")[0].split(\"_\")[2] \n",
    "        if char_temp in basic_hiragana_char:\n",
    "            fname = path.split(\"\\\\\")[1]\n",
    "            full_path = \"data\" + \"/\" + \"obj\" + \"/\" + fname\n",
    "            f.write(full_path + \"\\n\")\n",
    "            total_test = total_test + 1\n",
    "print(total_test)"
   ]
  },
  {
   "cell_type": "code",
   "execution_count": null,
   "id": "70a0fe58",
   "metadata": {},
   "outputs": [],
   "source": []
  }
 ],
 "metadata": {
  "kernelspec": {
   "display_name": "Python 3 (ipykernel)",
   "language": "python",
   "name": "python3"
  },
  "language_info": {
   "codemirror_mode": {
    "name": "ipython",
    "version": 3
   },
   "file_extension": ".py",
   "mimetype": "text/x-python",
   "name": "python",
   "nbconvert_exporter": "python",
   "pygments_lexer": "ipython3",
   "version": "3.8.12"
  }
 },
 "nbformat": 4,
 "nbformat_minor": 5
}
