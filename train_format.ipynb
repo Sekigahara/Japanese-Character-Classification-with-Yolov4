{
 "cells": [
  {
   "cell_type": "code",
   "execution_count": 1,
   "id": "07212126",
   "metadata": {},
   "outputs": [],
   "source": [
    "import numpy as np\n",
    "import glob\n",
    "import os\n",
    "import cv2"
   ]
  },
  {
   "cell_type": "code",
   "execution_count": 2,
   "id": "69b15ef6",
   "metadata": {},
   "outputs": [],
   "source": [
    "train_path = \"Dataset//Train\"\n",
    "test_path = \"Dataset//Test\""
   ]
  },
  {
   "cell_type": "code",
   "execution_count": 3,
   "id": "4e94f6d9",
   "metadata": {},
   "outputs": [],
   "source": [
    "train = glob.glob(os.path.join(train_path, \"*\"))\n",
    "test = glob.glob(os.path.join(test_path, \"*\"))"
   ]
  },
  {
   "cell_type": "code",
   "execution_count": null,
   "id": "1c7ef842",
   "metadata": {},
   "outputs": [],
   "source": []
  },
  {
   "cell_type": "code",
   "execution_count": 9,
   "id": "f45b22f0",
   "metadata": {},
   "outputs": [],
   "source": [
    "txt_path = \"obj\"\n",
    "def yolo_formatting(list_path):\n",
    "    for idx, path in enumerate(list_path):\n",
    "        img = cv2.imread(path, cv2.COLOR_BGR2RGB)\n",
    "        x_center = int(img.shape[0] / 2)\n",
    "        y_center = int(img.shape[1] / 2)\n",
    "        width = img.shape[0]\n",
    "        height = img.shape[1]\n",
    "        \n",
    "        label = path.split(\"\\\\\")[1].split(\"_\")[2].split(\".\")[0]\n",
    "        fname = path.split(\"\\\\\")[1].split(\".\")[0]\n",
    "        with open(os.path.join(txt_path, fname) + \".txt\", 'w') as f:\n",
    "            f.write(label + \" \" + str(x_center) + \" \" + str(y_center) + \" \" + str(width) + \" \" + str(height))"
   ]
  },
  {
   "cell_type": "code",
   "execution_count": null,
   "id": "47b135a5",
   "metadata": {},
   "outputs": [],
   "source": [
    "\n"
   ]
  },
  {
   "cell_type": "code",
   "execution_count": 10,
   "id": "b021aa91",
   "metadata": {},
   "outputs": [],
   "source": [
    "yolo_formatting(train)\n",
    "yolo_formatting(test)"
   ]
  },
  {
   "cell_type": "code",
   "execution_count": 4,
   "id": "ba924522",
   "metadata": {},
   "outputs": [],
   "source": [
    "test_path = \"Dataset/Test\"\n",
    "test = glob.glob(os.path.join(test_path, \"*\"))"
   ]
  },
  {
   "cell_type": "code",
   "execution_count": 5,
   "id": "5eb92453",
   "metadata": {},
   "outputs": [],
   "source": [
    "with open(\"train.txt\", 'w') as f:\n",
    "    for idx, path in enumerate(train):\n",
    "        fname = path.split(\"\\\\\")[1]\n",
    "        full_path = os.path.join(\"data\", \"obj\", fname)\n",
    "        f.write(full_path + \"\\n\")"
   ]
  },
  {
   "cell_type": "code",
   "execution_count": 6,
   "id": "4b1d906b",
   "metadata": {},
   "outputs": [],
   "source": [
    "with open(\"test.txt\", 'w') as f:\n",
    "    for idx, path in enumerate(test):\n",
    "        fname = path.split(\"\\\\\")[1]\n",
    "        full_path = os.path.join(\"data\", \"obj\", fname)\n",
    "        f.write(full_path + \"\\n\")"
   ]
  },
  {
   "cell_type": "code",
   "execution_count": null,
   "id": "70a0fe58",
   "metadata": {},
   "outputs": [],
   "source": []
  }
 ],
 "metadata": {
  "kernelspec": {
   "display_name": "Python 3 (ipykernel)",
   "language": "python",
   "name": "python3"
  },
  "language_info": {
   "codemirror_mode": {
    "name": "ipython",
    "version": 3
   },
   "file_extension": ".py",
   "mimetype": "text/x-python",
   "name": "python",
   "nbconvert_exporter": "python",
   "pygments_lexer": "ipython3",
   "version": "3.8.8"
  }
 },
 "nbformat": 4,
 "nbformat_minor": 5
}
