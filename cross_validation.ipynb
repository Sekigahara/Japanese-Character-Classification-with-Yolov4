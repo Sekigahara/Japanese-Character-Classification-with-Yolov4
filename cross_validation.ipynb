{
 "cells": [
  {
   "cell_type": "code",
   "execution_count": 21,
   "id": "a09b07a8",
   "metadata": {},
   "outputs": [],
   "source": [
    "import numpy as np\n",
    "import glob\n",
    "import os\n",
    "\n",
    "from sklearn.model_selection import StratifiedKFold as skf\n",
    "from Extract.hiragana import basic_hiragana_char\n",
    "from Extract.katakana import basic_katakana_char"
   ]
  },
  {
   "cell_type": "code",
   "execution_count": 22,
   "id": "4ead16ca",
   "metadata": {},
   "outputs": [],
   "source": [
    "ETL1_PATH = \"Extract//ETL1//IMG_WHITE1\"\n",
    "ETL8_PATH = \"Extract//ETL8G//IMG_WHITE\"\n",
    "ETL9_PATH = \"Extract//ETL9B//IMG_WHITE\""
   ]
  },
  {
   "cell_type": "code",
   "execution_count": 23,
   "id": "8415351a",
   "metadata": {},
   "outputs": [],
   "source": [
    "# Load All Image Path\n",
    "ETL1_list = glob.glob(ETL1_PATH + \"//*.png\")\n",
    "ETL8_list = glob.glob(ETL8_PATH + \"//*.png\")\n",
    "ETL9_list = glob.glob(ETL9_PATH + \"//*.png\")"
   ]
  },
  {
   "cell_type": "code",
   "execution_count": 24,
   "id": "6f64fc0e",
   "metadata": {},
   "outputs": [],
   "source": [
    "# Make all image path became one list\n",
    "dataset_paths = []\n",
    "dataset_paths.extend(ETL1_list)\n",
    "dataset_paths.extend(ETL8_list)\n",
    "dataset_paths.extend(ETL9_list)\n",
    "dataset_paths = np.asarray(dataset_paths)"
   ]
  },
  {
   "cell_type": "code",
   "execution_count": 25,
   "id": "763f5cf4",
   "metadata": {},
   "outputs": [],
   "source": [
    "# Make List of Label in One Array\n",
    "japanese_character = []\n",
    "japanese_character.extend(basic_hiragana_char)\n",
    "japanese_character.extend(basic_katakana_char)"
   ]
  },
  {
   "cell_type": "code",
   "execution_count": 26,
   "id": "5c65f693",
   "metadata": {},
   "outputs": [
    {
     "data": {
      "text/plain": [
       "92"
      ]
     },
     "execution_count": 26,
     "metadata": {},
     "output_type": "execute_result"
    }
   ],
   "source": [
    "# Label total\n",
    "len(japanese_character)"
   ]
  },
  {
   "cell_type": "code",
   "execution_count": 27,
   "id": "fee51886",
   "metadata": {},
   "outputs": [
    {
     "name": "stdout",
     "output_type": "stream",
     "text": [
      "ケ-ke\n",
      "ほ-ho\n",
      "あ-a\n"
     ]
    }
   ],
   "source": [
    "# Extracting Label from Files Name\n",
    "print(ETL1_list[0].split(\"\\\\\")[1].split(\"_\")[1])\n",
    "print(ETL8_list[0].split(\"\\\\\")[1].split(\"_\")[1])\n",
    "print(ETL9_list[0].split(\"\\\\\")[1].split(\"_\")[1])"
   ]
  },
  {
   "cell_type": "code",
   "execution_count": 28,
   "id": "fd233389",
   "metadata": {},
   "outputs": [],
   "source": [
    "# Extract Label\n",
    "\n",
    "dataset_label = []\n",
    "dataset_raw_label = []\n",
    "for idx, string_path in enumerate(dataset_paths):\n",
    "    label = string_path.split(\"\\\\\")[1].split(\"_\")[1]\n",
    "    \n",
    "    for idx1, chara in enumerate(japanese_character):\n",
    "        #print(label, chara)\n",
    "        if label == chara:\n",
    "            dataset_label.append(idx1)\n",
    "            dataset_raw_label.append(label)\n",
    "            break\n",
    "    \n",
    "dataset_label = np.asarray(dataset_label)\n",
    "dataset_raw_label = np.asarray(dataset_raw_label)"
   ]
  },
  {
   "cell_type": "code",
   "execution_count": 29,
   "id": "3acf9d9a",
   "metadata": {},
   "outputs": [
    {
     "data": {
      "text/plain": [
       "85786"
      ]
     },
     "execution_count": 29,
     "metadata": {},
     "output_type": "execute_result"
    }
   ],
   "source": [
    "len(dataset_paths)"
   ]
  },
  {
   "cell_type": "code",
   "execution_count": 30,
   "id": "7cca4de5",
   "metadata": {},
   "outputs": [
    {
     "name": "stdout",
     "output_type": "stream",
     "text": [
      "Label 54 with character ケ-ke\n",
      "Label 67 with character ニ-ni\n",
      "Label 62 with character チ-chi\n",
      "Label 61 with character タ-ta\n",
      "Extract//ETL1//IMG_WHITE1\\0_ケ-ke_kana.png\n",
      "Extract//ETL1//IMG_WHITE1\\19002_ニ-ni_kana.png\n",
      "Extract//ETL1//IMG_WHITE1\\11800_チ-chi_kana.png\n",
      "Extract//ETL1//IMG_WHITE1\\10900_タ-ta_kana.png\n",
      "Extract//ETL1//IMG_WHITE1\\9628_ソ-so_kana.png\n"
     ]
    },
    {
     "data": {
      "text/plain": [
       "85786"
      ]
     },
     "execution_count": 30,
     "metadata": {},
     "output_type": "execute_result"
    }
   ],
   "source": [
    "# Test the correctness\n",
    "print(\"Label {} with character {}\".format(str(dataset_label[0]), japanese_character[dataset_label[0]]))\n",
    "print(\"Label {} with character {}\".format(str(dataset_label[10000]), japanese_character[dataset_label[10000]]))\n",
    "print(\"Label {} with character {}\".format(str(dataset_label[2000]), japanese_character[dataset_label[2000]]))\n",
    "print(\"Label {} with character {}\".format(str(dataset_label[1000]), japanese_character[dataset_label[1000]]))\n",
    "\n",
    "print(dataset_paths[0])\n",
    "print(dataset_paths[10000])\n",
    "print(dataset_paths[2000])\n",
    "print(dataset_paths[1000])\n",
    "print(dataset_paths[68719])\n",
    "\n",
    "len(dataset_raw_label)"
   ]
  },
  {
   "cell_type": "code",
   "execution_count": 31,
   "id": "47c7a18a",
   "metadata": {},
   "outputs": [
    {
     "data": {
      "text/plain": [
       "<matplotlib.image.AxesImage at 0x25a806396d0>"
      ]
     },
     "execution_count": 31,
     "metadata": {},
     "output_type": "execute_result"
    },
    {
     "data": {
      "image/png": "[encoded data removed]",
      "text/plain": [
       "<Figure size 432x288 with 1 Axes>"
      ]
     },
     "metadata": {
      "needs_background": "light"
     },
     "output_type": "display_data"
    }
   ],
   "source": [
    "import cv2\n",
    "import matplotlib.pyplot as plt\n",
    "\n",
    "# Test Loaded Image\n",
    "image = cv2.imread(dataset_paths[0], cv2.COLOR_GRAY2RGB)\n",
    "plt.imshow(image)"
   ]
  },
  {
   "cell_type": "code",
   "execution_count": 32,
   "id": "6392db2d",
   "metadata": {},
   "outputs": [],
   "source": [
    "skf_model = skf(n_splits=4, random_state=10, shuffle=True)\n",
    "for train_idx, test_idx in skf_model.split(dataset_paths, dataset_label):\n",
    "    x_paths_train, y_train, y_train_raw = dataset_paths[train_idx] , dataset_label[train_idx], dataset_raw_label[train_idx]\n",
    "    x_paths_test, y_test, y_test_raw = dataset_paths[test_idx] , dataset_label[test_idx], dataset_raw_label[test_idx]"
   ]
  },
  {
   "cell_type": "code",
   "execution_count": 33,
   "id": "4118e1d1",
   "metadata": {},
   "outputs": [
    {
     "name": "stdout",
     "output_type": "stream",
     "text": [
      "Class=0, n=271 (0.421%)\n",
      "Class=1, n=272 (0.423%)\n",
      "Class=2, n=272 (0.423%)\n",
      "Class=3, n=271 (0.421%)\n",
      "Class=4, n=272 (0.423%)\n",
      "Class=5, n=271 (0.421%)\n",
      "Class=6, n=272 (0.423%)\n",
      "Class=7, n=271 (0.421%)\n",
      "Class=8, n=272 (0.423%)\n",
      "Class=9, n=271 (0.421%)\n",
      "Class=10, n=272 (0.423%)\n",
      "Class=11, n=271 (0.421%)\n",
      "Class=12, n=271 (0.421%)\n",
      "Class=13, n=271 (0.421%)\n",
      "Class=14, n=272 (0.423%)\n",
      "Class=15, n=271 (0.421%)\n",
      "Class=16, n=272 (0.423%)\n",
      "Class=17, n=271 (0.421%)\n",
      "Class=18, n=272 (0.423%)\n",
      "Class=19, n=271 (0.421%)\n",
      "Class=20, n=272 (0.423%)\n",
      "Class=21, n=271 (0.421%)\n",
      "Class=22, n=272 (0.423%)\n",
      "Class=23, n=271 (0.421%)\n",
      "Class=24, n=272 (0.423%)\n",
      "Class=25, n=271 (0.421%)\n",
      "Class=26, n=272 (0.423%)\n",
      "Class=27, n=271 (0.421%)\n",
      "Class=28, n=272 (0.423%)\n",
      "Class=29, n=271 (0.421%)\n",
      "Class=30, n=272 (0.423%)\n",
      "Class=31, n=272 (0.423%)\n",
      "Class=32, n=271 (0.421%)\n",
      "Class=33, n=272 (0.423%)\n",
      "Class=34, n=271 (0.421%)\n",
      "Class=35, n=272 (0.423%)\n",
      "Class=36, n=271 (0.421%)\n",
      "Class=37, n=272 (0.423%)\n",
      "Class=38, n=271 (0.421%)\n",
      "Class=39, n=272 (0.423%)\n",
      "Class=40, n=271 (0.421%)\n",
      "Class=41, n=272 (0.423%)\n",
      "Class=42, n=271 (0.421%)\n",
      "Class=43, n=272 (0.423%)\n",
      "Class=44, n=271 (0.421%)\n",
      "Class=45, n=272 (0.423%)\n",
      "Class=46, n=1058 (1.644%)\n",
      "Class=47, n=2116 (3.289%)\n",
      "Class=48, n=2116 (3.289%)\n",
      "Class=49, n=2117 (3.290%)\n",
      "Class=50, n=1059 (1.646%)\n",
      "Class=51, n=1058 (1.644%)\n",
      "Class=52, n=1058 (1.644%)\n",
      "Class=53, n=1058 (1.644%)\n",
      "Class=54, n=1055 (1.640%)\n",
      "Class=55, n=1058 (1.644%)\n",
      "Class=56, n=1058 (1.644%)\n",
      "Class=57, n=1058 (1.644%)\n",
      "Class=58, n=1058 (1.644%)\n",
      "Class=59, n=1059 (1.646%)\n",
      "Class=60, n=1058 (1.644%)\n",
      "Class=61, n=1058 (1.644%)\n",
      "Class=62, n=1058 (1.644%)\n",
      "Class=63, n=1059 (1.646%)\n",
      "Class=64, n=1058 (1.644%)\n",
      "Class=65, n=1058 (1.644%)\n",
      "Class=66, n=1059 (1.646%)\n",
      "Class=67, n=1058 (1.644%)\n",
      "Class=68, n=1058 (1.644%)\n",
      "Class=69, n=1058 (1.644%)\n",
      "Class=70, n=1059 (1.646%)\n",
      "Class=71, n=1058 (1.644%)\n",
      "Class=72, n=1058 (1.644%)\n",
      "Class=73, n=1058 (1.644%)\n",
      "Class=74, n=1059 (1.646%)\n",
      "Class=75, n=1058 (1.644%)\n",
      "Class=76, n=1058 (1.644%)\n",
      "Class=77, n=1059 (1.646%)\n",
      "Class=78, n=1058 (1.644%)\n",
      "Class=79, n=1058 (1.644%)\n",
      "Class=80, n=1058 (1.644%)\n",
      "Class=81, n=1059 (1.646%)\n",
      "Class=82, n=1058 (1.644%)\n",
      "Class=83, n=1058 (1.644%)\n",
      "Class=84, n=1059 (1.646%)\n",
      "Class=85, n=1058 (1.644%)\n",
      "Class=86, n=1058 (1.644%)\n",
      "Class=87, n=1058 (1.644%)\n",
      "Class=88, n=1059 (1.646%)\n",
      "Class=89, n=1058 (1.644%)\n",
      "Class=90, n=1059 (1.646%)\n",
      "Class=91, n=1058 (1.644%)\n"
     ]
    }
   ],
   "source": [
    "# Find the unbalanced class\n",
    "\n",
    "from collections import Counter\n",
    "\n",
    "maximum = []\n",
    "temp = y_train\n",
    "counter = Counter(np.sort(temp))\n",
    "for k, v in counter.items():\n",
    "    per= v / len(temp) * 100\n",
    "    maximum.append(v)\n",
    "    print('Class=%d, n=%d (%.3f%%)' % (k, v, per))"
   ]
  },
  {
   "cell_type": "code",
   "execution_count": null,
   "id": "17c47fbd",
   "metadata": {},
   "outputs": [],
   "source": []
  },
  {
   "cell_type": "code",
   "execution_count": 34,
   "id": "1382669e",
   "metadata": {},
   "outputs": [],
   "source": [
    "# Create dictionary to mapping the classes\n",
    "\n",
    "new_dict = {new_list: [] for new_list in range(2)}\n",
    "maximum_class = max(maximum)"
   ]
  },
  {
   "cell_type": "code",
   "execution_count": 35,
   "id": "7b8778bb",
   "metadata": {},
   "outputs": [],
   "source": [
    "for idx, label_sum in enumerate(maximum):\n",
    "    if label_sum <= maximum_class:\n",
    "        new_dict[0].append(idx)\n",
    "        new_dict[1].append(round(maximum_class/label_sum))"
   ]
  },
  {
   "cell_type": "code",
   "execution_count": 36,
   "id": "97c429e2",
   "metadata": {},
   "outputs": [
    {
     "name": "stdout",
     "output_type": "stream",
     "text": [
      "Path 'Extract//ETL1//IMG_WHITE1\\10003_タ-ta_kana.png' with label 61\n"
     ]
    }
   ],
   "source": [
    "# Validating the Cross validation\n",
    "print(\"Path '{}' with label {}\".format(x_paths_train[0], y_train[0]))"
   ]
  },
  {
   "cell_type": "code",
   "execution_count": 37,
   "id": "3ac628bb",
   "metadata": {},
   "outputs": [
    {
     "name": "stdout",
     "output_type": "stream",
     "text": [
      "Label 'タ-ta'\n"
     ]
    },
    {
     "data": {
      "image/png": "[encoded data removed]",
      "text/plain": [
       "<Figure size 432x288 with 1 Axes>"
      ]
     },
     "metadata": {
      "needs_background": "light"
     },
     "output_type": "display_data"
    }
   ],
   "source": [
    "image = cv2.imread(x_paths_train[0], cv2.COLOR_GRAY2RGB)\n",
    "plt.imshow(image)\n",
    "\n",
    "print(\"Label '{}'\".format(japanese_character[y_train[0]]))"
   ]
  },
  {
   "cell_type": "code",
   "execution_count": 38,
   "id": "edf321f8",
   "metadata": {},
   "outputs": [],
   "source": [
    "import json\n",
    "\n",
    "file = open(\"Utils/class_require_augment.json\", \"w\")\n",
    "json.dump(new_dict, file)\n",
    "file.close()"
   ]
  },
  {
   "cell_type": "code",
   "execution_count": 39,
   "id": "9c6537bc",
   "metadata": {},
   "outputs": [],
   "source": [
    "np.savez(\"Utils/dataset_train.npz\", x_path=x_paths_train, y_train=y_train, y_train_raw=y_train_raw)\n",
    "np.savez(\"Utils/dataset_test.npz\", x_path=x_paths_test, y_train=y_test, y_train_raw=y_test_raw)"
   ]
  },
  {
   "cell_type": "code",
   "execution_count": null,
   "id": "5d35648c",
   "metadata": {},
   "outputs": [],
   "source": []
  },
  {
   "cell_type": "code",
   "execution_count": null,
   "id": "af27b112",
   "metadata": {},
   "outputs": [],
   "source": []
  }
 ],
 "metadata": {
  "kernelspec": {
   "display_name": "Python 3 (ipykernel)",
   "language": "python",
   "name": "python3"
  },
  "language_info": {
   "codemirror_mode": {
    "name": "ipython",
    "version": 3
   },
   "file_extension": ".py",
   "mimetype": "text/x-python",
   "name": "python",
   "nbconvert_exporter": "python",
   "pygments_lexer": "ipython3",
   "version": "3.8.8"
  }
 },
 "nbformat": 4,
 "nbformat_minor": 5
}
